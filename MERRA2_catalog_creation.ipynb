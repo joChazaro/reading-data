{
 "cells": [
  {
   "cell_type": "code",
   "execution_count": 1,
   "id": "638e18e2-0db4-49e3-acc5-ebc0ba22c9d4",
   "metadata": {
    "tags": []
   },
   "outputs": [],
   "source": [
    "# !pip install intake[complete]\n",
    "# !pip install zstandard\n",
    "# !pip install git+https://github.com/fsspec/kerchunk"
   ]
  },
  {
   "cell_type": "markdown",
   "id": "e6a86fde-9361-4900-b01c-045f03208924",
   "metadata": {
    "tags": []
   },
   "source": [
    "## Creating MERRA 2 Catalog/ sidecar  jason File // Using Kerchunk notebook recipe\n",
    "Source: https://nbviewer.org/github/peterm790/ERA5_Kerchunk_tutorial/blob/master/ERA5_tutorial.ipynb?source=post_page-----625a2d0a9191--------------------------------  "
   ]
  },
  {
   "cell_type": "code",
   "execution_count": 60,
   "id": "2c3c0286-951a-493f-a9a2-86425ff64c03",
   "metadata": {},
   "outputs": [
    {
     "data": {
      "text/plain": [
       "s3fs.core.S3FileSystem"
      ]
     },
     "execution_count": 60,
     "metadata": {},
     "output_type": "execute_result"
    }
   ],
   "source": [
    "import requests\n",
    "import fsspec\n",
    "\n",
    "##connect with s3 credentials from earthdata \n",
    "\n",
    "gesdisc_s3_url = \"https://data.gesdisc.earthdata.nasa.gov/s3credentials\"\n",
    "\n",
    "def begin_s3_direct_access(url: str=gesdisc_s3_url):\n",
    "    response = requests.get(url).json()\n",
    "    \n",
    "    s3_options = {\n",
    "        \"key\": response['accessKeyId'],\n",
    "        \"secret\": response['secretAccessKey'],\n",
    "        \"token\": response['sessionToken'],\n",
    "        \"client_kwargs\": {'region_name': 'us-west-2'}\n",
    "    }\n",
    "    \n",
    "    return fsspec.filesystem(\"s3\", **s3_options)\n",
    "\n",
    "s3fs = begin_s3_direct_access()\n",
    "\n",
    "# Check that the file system is intact as an S3FileSystem object, which means that token is valid\n",
    "# Common causes of rejected S3 access tokens include incorrect passwords stored in the netrc file, or a non-existent netrc file\n",
    "type(s3fs)\n"
   ]
  },
  {
   "cell_type": "code",
   "execution_count": 62,
   "id": "5274a085-a72d-495d-9b73-f93047aeef42",
   "metadata": {
    "tags": []
   },
   "outputs": [
    {
     "data": {
      "text/plain": [
       "['gesdisc-cumulus-prod-protected/MERRA2/M2T1NXSLV.5.12.4/2019/04/MERRA2_400.tavg1_2d_slv_Nx.20190401.nc4',\n",
       " 'gesdisc-cumulus-prod-protected/MERRA2/M2T1NXSLV.5.12.4/2019/04/MERRA2_400.tavg1_2d_slv_Nx.20190402.nc4',\n",
       " 'gesdisc-cumulus-prod-protected/MERRA2/M2T1NXSLV.5.12.4/2019/04/MERRA2_400.tavg1_2d_slv_Nx.20190403.nc4',\n",
       " 'gesdisc-cumulus-prod-protected/MERRA2/M2T1NXSLV.5.12.4/2019/04/MERRA2_400.tavg1_2d_slv_Nx.20190404.nc4',\n",
       " 'gesdisc-cumulus-prod-protected/MERRA2/M2T1NXSLV.5.12.4/2019/04/MERRA2_400.tavg1_2d_slv_Nx.20190405.nc4',\n",
       " 'gesdisc-cumulus-prod-protected/MERRA2/M2T1NXSLV.5.12.4/2019/04/MERRA2_400.tavg1_2d_slv_Nx.20190406.nc4',\n",
       " 'gesdisc-cumulus-prod-protected/MERRA2/M2T1NXSLV.5.12.4/2019/04/MERRA2_400.tavg1_2d_slv_Nx.20190407.nc4',\n",
       " 'gesdisc-cumulus-prod-protected/MERRA2/M2T1NXSLV.5.12.4/2019/04/MERRA2_400.tavg1_2d_slv_Nx.20190408.nc4',\n",
       " 'gesdisc-cumulus-prod-protected/MERRA2/M2T1NXSLV.5.12.4/2019/04/MERRA2_400.tavg1_2d_slv_Nx.20190409.nc4',\n",
       " 'gesdisc-cumulus-prod-protected/MERRA2/M2T1NXSLV.5.12.4/2019/04/MERRA2_400.tavg1_2d_slv_Nx.20190410.nc4',\n",
       " 'gesdisc-cumulus-prod-protected/MERRA2/M2T1NXSLV.5.12.4/2019/04/MERRA2_400.tavg1_2d_slv_Nx.20190411.nc4',\n",
       " 'gesdisc-cumulus-prod-protected/MERRA2/M2T1NXSLV.5.12.4/2019/04/MERRA2_400.tavg1_2d_slv_Nx.20190412.nc4',\n",
       " 'gesdisc-cumulus-prod-protected/MERRA2/M2T1NXSLV.5.12.4/2019/04/MERRA2_400.tavg1_2d_slv_Nx.20190413.nc4',\n",
       " 'gesdisc-cumulus-prod-protected/MERRA2/M2T1NXSLV.5.12.4/2019/04/MERRA2_400.tavg1_2d_slv_Nx.20190414.nc4',\n",
       " 'gesdisc-cumulus-prod-protected/MERRA2/M2T1NXSLV.5.12.4/2019/04/MERRA2_400.tavg1_2d_slv_Nx.20190415.nc4',\n",
       " 'gesdisc-cumulus-prod-protected/MERRA2/M2T1NXSLV.5.12.4/2019/04/MERRA2_400.tavg1_2d_slv_Nx.20190416.nc4',\n",
       " 'gesdisc-cumulus-prod-protected/MERRA2/M2T1NXSLV.5.12.4/2019/04/MERRA2_400.tavg1_2d_slv_Nx.20190417.nc4',\n",
       " 'gesdisc-cumulus-prod-protected/MERRA2/M2T1NXSLV.5.12.4/2019/04/MERRA2_400.tavg1_2d_slv_Nx.20190418.nc4',\n",
       " 'gesdisc-cumulus-prod-protected/MERRA2/M2T1NXSLV.5.12.4/2019/04/MERRA2_400.tavg1_2d_slv_Nx.20190419.nc4',\n",
       " 'gesdisc-cumulus-prod-protected/MERRA2/M2T1NXSLV.5.12.4/2019/04/MERRA2_400.tavg1_2d_slv_Nx.20190420.nc4',\n",
       " 'gesdisc-cumulus-prod-protected/MERRA2/M2T1NXSLV.5.12.4/2019/04/MERRA2_400.tavg1_2d_slv_Nx.20190421.nc4',\n",
       " 'gesdisc-cumulus-prod-protected/MERRA2/M2T1NXSLV.5.12.4/2019/04/MERRA2_400.tavg1_2d_slv_Nx.20190422.nc4',\n",
       " 'gesdisc-cumulus-prod-protected/MERRA2/M2T1NXSLV.5.12.4/2019/04/MERRA2_400.tavg1_2d_slv_Nx.20190423.nc4',\n",
       " 'gesdisc-cumulus-prod-protected/MERRA2/M2T1NXSLV.5.12.4/2019/04/MERRA2_400.tavg1_2d_slv_Nx.20190424.nc4',\n",
       " 'gesdisc-cumulus-prod-protected/MERRA2/M2T1NXSLV.5.12.4/2019/04/MERRA2_400.tavg1_2d_slv_Nx.20190425.nc4',\n",
       " 'gesdisc-cumulus-prod-protected/MERRA2/M2T1NXSLV.5.12.4/2019/04/MERRA2_400.tavg1_2d_slv_Nx.20190426.nc4',\n",
       " 'gesdisc-cumulus-prod-protected/MERRA2/M2T1NXSLV.5.12.4/2019/04/MERRA2_400.tavg1_2d_slv_Nx.20190427.nc4',\n",
       " 'gesdisc-cumulus-prod-protected/MERRA2/M2T1NXSLV.5.12.4/2019/04/MERRA2_400.tavg1_2d_slv_Nx.20190428.nc4',\n",
       " 'gesdisc-cumulus-prod-protected/MERRA2/M2T1NXSLV.5.12.4/2019/04/MERRA2_400.tavg1_2d_slv_Nx.20190429.nc4',\n",
       " 'gesdisc-cumulus-prod-protected/MERRA2/M2T1NXSLV.5.12.4/2019/04/MERRA2_400.tavg1_2d_slv_Nx.20190430.nc4']"
      ]
     },
     "execution_count": 62,
     "metadata": {},
     "output_type": "execute_result"
    }
   ],
   "source": [
    "s3_flist = s3fs.glob(\"s3://gesdisc-cumulus-prod-protected/MERRA2/M2T1NXSLV.5.12.4/2019/04/*.nc4\") #april-2023\n",
    "s3_flist"
   ]
  },
  {
   "cell_type": "code",
   "execution_count": 63,
   "id": "a5a0abd4-db01-44b8-bf94-e4533554beaa",
   "metadata": {
    "tags": []
   },
   "outputs": [],
   "source": [
    "#create local fs to save sidecar files\n",
    "local_fs = fsspec.filesystem('') "
   ]
  },
  {
   "cell_type": "markdown",
   "id": "b39cb38c-280f-4042-a232-924882671dd0",
   "metadata": {},
   "source": [
    "## Create a sidecar for each file which will later be consolidate into a single file"
   ]
  },
  {
   "cell_type": "code",
   "execution_count": 64,
   "id": "e7b0cf72-c568-43ea-b336-148752970ed8",
   "metadata": {
    "tags": []
   },
   "outputs": [],
   "source": [
    "from pathlib import Path\n",
    "import os\n",
    "import ujson\n",
    "from kerchunk.hdf import SingleHdf5ToZarr \n",
    "from kerchunk.combine import MultiZarrToZarr\n",
    "# import fsspec.implementations.reference\n",
    "# from fsspec.implementations.reference import LazyReferenceMapper\n",
    "import xarray as xr"
   ]
  },
  {
   "cell_type": "code",
   "execution_count": 6,
   "id": "90945c10-0e4a-46ea-9ca0-1d527e953dd1",
   "metadata": {
    "tags": []
   },
   "outputs": [],
   "source": [
    "# JCC: create ref catalog in s3/eso-west2-curated/./."
   ]
  },
  {
   "cell_type": "code",
   "execution_count": 65,
   "id": "aef41409-233f-486a-a83c-76031f868843",
   "metadata": {
    "tags": []
   },
   "outputs": [
    {
     "name": "stdout",
     "output_type": "stream",
     "text": [
      "/home/jovyan/efs\n"
     ]
    }
   ],
   "source": [
    "cd /home/jovyan/efs"
   ]
  },
  {
   "cell_type": "code",
   "execution_count": 66,
   "id": "88b41192-b1fe-49ab-b762-e437f3b92fb0",
   "metadata": {
    "tags": []
   },
   "outputs": [],
   "source": [
    "# os.mkdir('MERRA2_jsons') # creates dir in current working diretory\n",
    "\n",
    "json_dir = 'efs/MERRA2_jsons/'\n",
    "\n",
    "file_open_config = dict(mode='rb', anon=True, default_fill_cache=False, default_cache_type='first')"
   ]
  },
  {
   "cell_type": "code",
   "execution_count": 8,
   "id": "0aa07da5-3092-4adb-8627-4858267f937a",
   "metadata": {},
   "outputs": [],
   "source": [
    "# file_open_config helps save parameters used to configure the file opening operation- in generate_json function\n",
    "# file_open_config: {'mode': 'rb', \n",
    "#                    'anon': True, \n",
    "#                    'default_fill_cache': False, \n",
    "#                    'default_cache_type': 'first'\n",
    "#                   }\n",
    "# path [0] = gesdisc-cumulus-prod-protected/\n",
    "# path [1] = MERRA2/\n",
    "# path [2] = M2T1NXSLV.5.12.4/\n",
    "# year [3] = 2019/\n",
    "# month [4] = 03/\n",
    "# stem [5] =  MERRA2_400.tavg1_2d_slv_Nx.2019MMDD"
   ]
  },
  {
   "cell_type": "code",
   "execution_count": 70,
   "id": "7d2429d4-a449-4fcc-9843-c51d2bef3a96",
   "metadata": {
    "tags": []
   },
   "outputs": [],
   "source": [
    "def generate_json(path):\n",
    "    with s3fs.open(path, **file_open_config) as infile:\n",
    "        h5chunks = SingleHdf5ToZarr(infile, path, inline_threshold=300)\n",
    "        parts = path.split('/') # seperate file path to create a unique name for each json \n",
    "        # year = parts[3]\n",
    "        # month = parts[4]\n",
    "        fstem = Path(path).stem # .stem retreives the base name of the file path without its extension, this already includes year/month/day\n",
    "        outf = f'{json_dir}{fstem}.json' #removed redundant {year}{month}\n",
    "        print(outf)\n",
    "        with local_fs.open(outf, 'wb') as f:\n",
    "            f.write(ujson.dumps(h5chunks.translate()).encode());"
   ]
  },
  {
   "cell_type": "code",
   "execution_count": 26,
   "id": "6dc3c108-5013-4ec8-bc34-b196466937c5",
   "metadata": {
    "tags": []
   },
   "outputs": [],
   "source": [
    "#check to make sure you are in the correct directory (cd /home/jovyan/)"
   ]
  },
  {
   "cell_type": "code",
   "execution_count": 72,
   "id": "4c9e3e35-deab-4513-9645-6200f74e98a6",
   "metadata": {
    "tags": []
   },
   "outputs": [
    {
     "name": "stdout",
     "output_type": "stream",
     "text": [
      "efs/MERRA2_jsons/MERRA2_400.tavg1_2d_slv_Nx.20190401.json\n",
      "efs/MERRA2_jsons/MERRA2_400.tavg1_2d_slv_Nx.20190402.json\n",
      "efs/MERRA2_jsons/MERRA2_400.tavg1_2d_slv_Nx.20190403.json\n",
      "efs/MERRA2_jsons/MERRA2_400.tavg1_2d_slv_Nx.20190404.json\n",
      "efs/MERRA2_jsons/MERRA2_400.tavg1_2d_slv_Nx.20190405.json\n",
      "efs/MERRA2_jsons/MERRA2_400.tavg1_2d_slv_Nx.20190406.json\n",
      "efs/MERRA2_jsons/MERRA2_400.tavg1_2d_slv_Nx.20190407.json\n",
      "efs/MERRA2_jsons/MERRA2_400.tavg1_2d_slv_Nx.20190408.json\n",
      "efs/MERRA2_jsons/MERRA2_400.tavg1_2d_slv_Nx.20190409.json\n",
      "efs/MERRA2_jsons/MERRA2_400.tavg1_2d_slv_Nx.20190410.json\n",
      "efs/MERRA2_jsons/MERRA2_400.tavg1_2d_slv_Nx.20190411.json\n",
      "efs/MERRA2_jsons/MERRA2_400.tavg1_2d_slv_Nx.20190412.json\n",
      "efs/MERRA2_jsons/MERRA2_400.tavg1_2d_slv_Nx.20190413.json\n",
      "efs/MERRA2_jsons/MERRA2_400.tavg1_2d_slv_Nx.20190414.json\n",
      "efs/MERRA2_jsons/MERRA2_400.tavg1_2d_slv_Nx.20190415.json\n",
      "efs/MERRA2_jsons/MERRA2_400.tavg1_2d_slv_Nx.20190416.json\n",
      "efs/MERRA2_jsons/MERRA2_400.tavg1_2d_slv_Nx.20190417.json\n",
      "efs/MERRA2_jsons/MERRA2_400.tavg1_2d_slv_Nx.20190418.json\n",
      "efs/MERRA2_jsons/MERRA2_400.tavg1_2d_slv_Nx.20190419.json\n",
      "efs/MERRA2_jsons/MERRA2_400.tavg1_2d_slv_Nx.20190420.json\n",
      "efs/MERRA2_jsons/MERRA2_400.tavg1_2d_slv_Nx.20190421.json\n",
      "efs/MERRA2_jsons/MERRA2_400.tavg1_2d_slv_Nx.20190422.json\n",
      "efs/MERRA2_jsons/MERRA2_400.tavg1_2d_slv_Nx.20190423.json\n",
      "efs/MERRA2_jsons/MERRA2_400.tavg1_2d_slv_Nx.20190424.json\n",
      "efs/MERRA2_jsons/MERRA2_400.tavg1_2d_slv_Nx.20190425.json\n",
      "efs/MERRA2_jsons/MERRA2_400.tavg1_2d_slv_Nx.20190426.json\n",
      "efs/MERRA2_jsons/MERRA2_400.tavg1_2d_slv_Nx.20190427.json\n",
      "efs/MERRA2_jsons/MERRA2_400.tavg1_2d_slv_Nx.20190428.json\n",
      "efs/MERRA2_jsons/MERRA2_400.tavg1_2d_slv_Nx.20190429.json\n",
      "efs/MERRA2_jsons/MERRA2_400.tavg1_2d_slv_Nx.20190430.json\n",
      "CPU times: user 8min 46s, sys: 1min 29s, total: 10min 15s\n",
      "Wall time: 22min 6s\n"
     ]
    }
   ],
   "source": [
    "%%time\n",
    "for file in s3_flist:\n",
    "    generate_json(file)"
   ]
  },
  {
   "cell_type": "code",
   "execution_count": 73,
   "id": "72ba5785-9f81-4f77-8d88-2f7d54c076c0",
   "metadata": {
    "tags": []
   },
   "outputs": [],
   "source": [
    "# Check files \n",
    "json_list = local_fs.glob(str(json_dir)+'MERRA2_400.tavg1_2d_slv_Nx.*.json')"
   ]
  },
  {
   "cell_type": "code",
   "execution_count": 74,
   "id": "45857931-c6ed-47eb-9cb1-d9996b1d940e",
   "metadata": {
    "tags": []
   },
   "outputs": [
    {
     "data": {
      "text/plain": [
       "['/home/jovyan/efs/MERRA2_jsons/MERRA2_400.tavg1_2d_slv_Nx.20190401.json',\n",
       " '/home/jovyan/efs/MERRA2_jsons/MERRA2_400.tavg1_2d_slv_Nx.20190402.json',\n",
       " '/home/jovyan/efs/MERRA2_jsons/MERRA2_400.tavg1_2d_slv_Nx.20190403.json',\n",
       " '/home/jovyan/efs/MERRA2_jsons/MERRA2_400.tavg1_2d_slv_Nx.20190404.json',\n",
       " '/home/jovyan/efs/MERRA2_jsons/MERRA2_400.tavg1_2d_slv_Nx.20190405.json',\n",
       " '/home/jovyan/efs/MERRA2_jsons/MERRA2_400.tavg1_2d_slv_Nx.20190406.json',\n",
       " '/home/jovyan/efs/MERRA2_jsons/MERRA2_400.tavg1_2d_slv_Nx.20190407.json',\n",
       " '/home/jovyan/efs/MERRA2_jsons/MERRA2_400.tavg1_2d_slv_Nx.20190408.json',\n",
       " '/home/jovyan/efs/MERRA2_jsons/MERRA2_400.tavg1_2d_slv_Nx.20190409.json',\n",
       " '/home/jovyan/efs/MERRA2_jsons/MERRA2_400.tavg1_2d_slv_Nx.20190410.json',\n",
       " '/home/jovyan/efs/MERRA2_jsons/MERRA2_400.tavg1_2d_slv_Nx.20190411.json',\n",
       " '/home/jovyan/efs/MERRA2_jsons/MERRA2_400.tavg1_2d_slv_Nx.20190412.json',\n",
       " '/home/jovyan/efs/MERRA2_jsons/MERRA2_400.tavg1_2d_slv_Nx.20190413.json',\n",
       " '/home/jovyan/efs/MERRA2_jsons/MERRA2_400.tavg1_2d_slv_Nx.20190414.json',\n",
       " '/home/jovyan/efs/MERRA2_jsons/MERRA2_400.tavg1_2d_slv_Nx.20190415.json',\n",
       " '/home/jovyan/efs/MERRA2_jsons/MERRA2_400.tavg1_2d_slv_Nx.20190416.json',\n",
       " '/home/jovyan/efs/MERRA2_jsons/MERRA2_400.tavg1_2d_slv_Nx.20190417.json',\n",
       " '/home/jovyan/efs/MERRA2_jsons/MERRA2_400.tavg1_2d_slv_Nx.20190418.json',\n",
       " '/home/jovyan/efs/MERRA2_jsons/MERRA2_400.tavg1_2d_slv_Nx.20190419.json',\n",
       " '/home/jovyan/efs/MERRA2_jsons/MERRA2_400.tavg1_2d_slv_Nx.20190420.json',\n",
       " '/home/jovyan/efs/MERRA2_jsons/MERRA2_400.tavg1_2d_slv_Nx.20190421.json',\n",
       " '/home/jovyan/efs/MERRA2_jsons/MERRA2_400.tavg1_2d_slv_Nx.20190422.json',\n",
       " '/home/jovyan/efs/MERRA2_jsons/MERRA2_400.tavg1_2d_slv_Nx.20190423.json',\n",
       " '/home/jovyan/efs/MERRA2_jsons/MERRA2_400.tavg1_2d_slv_Nx.20190424.json',\n",
       " '/home/jovyan/efs/MERRA2_jsons/MERRA2_400.tavg1_2d_slv_Nx.20190425.json',\n",
       " '/home/jovyan/efs/MERRA2_jsons/MERRA2_400.tavg1_2d_slv_Nx.20190426.json',\n",
       " '/home/jovyan/efs/MERRA2_jsons/MERRA2_400.tavg1_2d_slv_Nx.20190427.json',\n",
       " '/home/jovyan/efs/MERRA2_jsons/MERRA2_400.tavg1_2d_slv_Nx.20190428.json',\n",
       " '/home/jovyan/efs/MERRA2_jsons/MERRA2_400.tavg1_2d_slv_Nx.20190429.json',\n",
       " '/home/jovyan/efs/MERRA2_jsons/MERRA2_400.tavg1_2d_slv_Nx.20190430.json']"
      ]
     },
     "execution_count": 74,
     "metadata": {},
     "output_type": "execute_result"
    }
   ],
   "source": [
    "json_list"
   ]
  },
  {
   "cell_type": "markdown",
   "id": "0dd390a3-fad5-4339-b692-e2f6afca50c2",
   "metadata": {},
   "source": [
    "### using kerchunk.combine.MultiZarrtoZarr to consolidate to a sidecar file"
   ]
  },
  {
   "cell_type": "code",
   "execution_count": 147,
   "id": "08d355c2-dadb-4e9b-adc4-dd70784e56ca",
   "metadata": {
    "tags": []
   },
   "outputs": [],
   "source": [
    "## How else can I try passing credentials to workers to access data and avoid Nan data error?\n"
   ]
  },
  {
   "cell_type": "code",
   "execution_count": 148,
   "id": "fcbc505b-e2f8-4c82-b9a6-50b54d6cfbbc",
   "metadata": {
    "tags": []
   },
   "outputs": [
    {
     "name": "stdout",
     "output_type": "stream",
     "text": [
      "CPU times: user 24.7 ms, sys: 0 ns, total: 24.7 ms\n",
      "Wall time: 33.5 ms\n"
     ]
    }
   ],
   "source": [
    "%%time\n",
    "fs_ = fsspec.filesystem(\"reference\", \n",
    "                        fo=json_list[0], \n",
    "                        ref_storage_args={'skip_instance_cache':True},\n",
    "                        remote_protocol='s3', \n",
    "                        remote_options={'anon':False, 'fs': s3fs}\n",
    "                       )"
   ]
  },
  {
   "cell_type": "markdown",
   "id": "5e654567-2c77-4afb-9fc4-aa11dbbf2e49",
   "metadata": {
    "tags": []
   },
   "source": [
    "#### Checking contents of fs_: \n",
    "```\n",
    "file_list = fs_.ls('')\n",
    "file_list output is a list of dictionaries: \n",
    "    [{'name': '.zgroup', 'type': 'file', 'size': 17},\n",
    "     {'name': '.zattrs', 'type': 'file', 'size': 1363},\n",
    "     {'name': 'CLDPRS', 'type': 'directory', 'size': 0},\n",
    "     {'name': 'CLDTMP', 'type': 'directory', 'size': 0},\n",
    "     {'name': 'DISPH', 'type': 'directory', 'size': 0}  \n",
    "     ...\n",
    "    ]\n",
    "```\n",
    "\n",
    "  - **name** key specifies the name of the file or directory.\n",
    "  - **type** key specifies whether the item is a file or directory.\n",
    "  - **size** key specifies the size of the item. For directories, the size is typically 0.  \n",
    "  \n",
    "Output confirms that the credentials used to access the remote filesystem were accepted"
   ]
  },
  {
   "cell_type": "code",
   "execution_count": 149,
   "id": "e6b4e025-019f-4163-a789-371c984938a1",
   "metadata": {
    "tags": []
   },
   "outputs": [],
   "source": [
    "## check to see what may be causing the Nan -> Rich suggested this may be due to not having credentials set on the workers to access the data\n",
    "\n",
    "mapper_obj = fs_.get_mapper(\"\")\n",
    "## what exactly is get_mapper doing? -> mapper expects a path argument, which specifies the location \n",
    "## within the filesystem for which the mapper is obtained. This could be a directory path, file path, \n",
    "## or other resource identifier depending on the filesystem type. an empty \"\" string, directs it to root directory "
   ]
  },
  {
   "cell_type": "code",
   "execution_count": 159,
   "id": "ce70d982-d698-4a8f-8626-fd239fdf7446",
   "metadata": {
    "tags": []
   },
   "outputs": [
    {
     "name": "stdout",
     "output_type": "stream",
     "text": [
      "<fsspec.mapping.FSMap object at 0x7f47d80cc2b0>\n"
     ]
    }
   ],
   "source": [
    "print((mapper_obj))"
   ]
  },
  {
   "cell_type": "code",
   "execution_count": 160,
   "id": "c9681e5d-acd5-4d90-902a-0358c1aecbd6",
   "metadata": {
    "tags": []
   },
   "outputs": [
    {
     "name": "stdout",
     "output_type": "stream",
     "text": [
      "<xarray.Dataset>\n",
      "Dimensions:   (time: 24, lat: 361, lon: 576)\n",
      "Coordinates:\n",
      "  * lat       (lat) float64 nan nan nan nan nan nan ... nan nan nan nan nan nan\n",
      "  * lon       (lon) float64 nan nan nan nan nan nan ... nan nan nan nan nan nan\n",
      "  * time      (time) datetime64[ns] 2019-04-01T00:30:00 ... 2019-04-01T23:30:00\n",
      "Data variables: (12/47)\n",
      "    CLDPRS    (time, lat, lon) float32 dask.array<chunksize=(1, 91, 144), meta=np.ndarray>\n",
      "    CLDTMP    (time, lat, lon) float32 dask.array<chunksize=(1, 91, 144), meta=np.ndarray>\n",
      "    DISPH     (time, lat, lon) float32 dask.array<chunksize=(1, 91, 144), meta=np.ndarray>\n",
      "    H1000     (time, lat, lon) float32 dask.array<chunksize=(1, 91, 144), meta=np.ndarray>\n",
      "    H250      (time, lat, lon) float32 dask.array<chunksize=(1, 91, 144), meta=np.ndarray>\n",
      "    H500      (time, lat, lon) float32 dask.array<chunksize=(1, 91, 144), meta=np.ndarray>\n",
      "    ...        ...\n",
      "    V250      (time, lat, lon) float32 dask.array<chunksize=(1, 91, 144), meta=np.ndarray>\n",
      "    V2M       (time, lat, lon) float32 dask.array<chunksize=(1, 91, 144), meta=np.ndarray>\n",
      "    V500      (time, lat, lon) float32 dask.array<chunksize=(1, 91, 144), meta=np.ndarray>\n",
      "    V50M      (time, lat, lon) float32 dask.array<chunksize=(1, 91, 144), meta=np.ndarray>\n",
      "    V850      (time, lat, lon) float32 dask.array<chunksize=(1, 91, 144), meta=np.ndarray>\n",
      "    ZLCL      (time, lat, lon) float32 dask.array<chunksize=(1, 91, 144), meta=np.ndarray>\n",
      "Attributes: (12/30)\n",
      "    Comment:                           GMAO filename: d5124_m2_jan10.tavg1_2d...\n",
      "    Contact:                           http://gmao.gsfc.nasa.gov\n",
      "    Conventions:                       CF-1\n",
      "    DataResolution:                    0.5 x 0.625\n",
      "    EasternmostLongitude:              179.375\n",
      "    Filename:                          MERRA2_400.tavg1_2d_slv_Nx.20190401.nc4\n",
      "    ...                                ...\n",
      "    TemporalRange:                     1980-01-01 -> 2016-12-31\n",
      "    Title:                             MERRA2 tavg1_2d_slv_Nx: 2d,1-Hourly,Ti...\n",
      "    VersionID:                         5.12.4\n",
      "    WesternmostLongitude:              -180.0\n",
      "    identifier_product_doi:            10.5067/VJAFPLI1CSIV\n",
      "    identifier_product_doi_authority:  http://dx.doi.org/\n"
     ]
    }
   ],
   "source": [
    "ds = xr.open_dataset(mapper_obj, \n",
    "                     engine=\"zarr\", \n",
    "                     backend_kwargs={'consolidated':False}, \n",
    "                     chunks={}\n",
    "                    )\n",
    "print(ds)"
   ]
  },
  {
   "cell_type": "code",
   "execution_count": 156,
   "id": "a943a1a0-e8b0-4dce-9624-8ea5f7b81e1b",
   "metadata": {
    "tags": []
   },
   "outputs": [
    {
     "name": "stdout",
     "output_type": "stream",
     "text": [
      "<xarray.Dataset>\n",
      "Dimensions:   (time: 24, lat: 361, lon: 576)\n",
      "Coordinates:\n",
      "  * lat       (lat) float64 nan nan nan nan nan nan ... nan nan nan nan nan nan\n",
      "  * lon       (lon) float64 nan nan nan nan nan nan ... nan nan nan nan nan nan\n",
      "  * time      (time) datetime64[ns] 2019-04-01T00:30:00 ... 2019-04-01T23:30:00\n",
      "Data variables: (12/47)\n",
      "    CLDPRS    (time, lat, lon) float32 dask.array<chunksize=(1, 91, 144), meta=np.ndarray>\n",
      "    CLDTMP    (time, lat, lon) float32 dask.array<chunksize=(1, 91, 144), meta=np.ndarray>\n",
      "    DISPH     (time, lat, lon) float32 dask.array<chunksize=(1, 91, 144), meta=np.ndarray>\n",
      "    H1000     (time, lat, lon) float32 dask.array<chunksize=(1, 91, 144), meta=np.ndarray>\n",
      "    H250      (time, lat, lon) float32 dask.array<chunksize=(1, 91, 144), meta=np.ndarray>\n",
      "    H500      (time, lat, lon) float32 dask.array<chunksize=(1, 91, 144), meta=np.ndarray>\n",
      "    ...        ...\n",
      "    V250      (time, lat, lon) float32 dask.array<chunksize=(1, 91, 144), meta=np.ndarray>\n",
      "    V2M       (time, lat, lon) float32 dask.array<chunksize=(1, 91, 144), meta=np.ndarray>\n",
      "    V500      (time, lat, lon) float32 dask.array<chunksize=(1, 91, 144), meta=np.ndarray>\n",
      "    V50M      (time, lat, lon) float32 dask.array<chunksize=(1, 91, 144), meta=np.ndarray>\n",
      "    V850      (time, lat, lon) float32 dask.array<chunksize=(1, 91, 144), meta=np.ndarray>\n",
      "    ZLCL      (time, lat, lon) float32 dask.array<chunksize=(1, 91, 144), meta=np.ndarray>\n",
      "Attributes: (12/30)\n",
      "    Comment:                           GMAO filename: d5124_m2_jan10.tavg1_2d...\n",
      "    Contact:                           http://gmao.gsfc.nasa.gov\n",
      "    Conventions:                       CF-1\n",
      "    DataResolution:                    0.5 x 0.625\n",
      "    EasternmostLongitude:              179.375\n",
      "    Filename:                          MERRA2_400.tavg1_2d_slv_Nx.20190401.nc4\n",
      "    ...                                ...\n",
      "    TemporalRange:                     1980-01-01 -> 2016-12-31\n",
      "    Title:                             MERRA2 tavg1_2d_slv_Nx: 2d,1-Hourly,Ti...\n",
      "    VersionID:                         5.12.4\n",
      "    WesternmostLongitude:              -180.0\n",
      "    identifier_product_doi:            10.5067/VJAFPLI1CSIV\n",
      "    identifier_product_doi_authority:  http://dx.doi.org/\n"
     ]
    }
   ],
   "source": [
    "print(ds)"
   ]
  },
  {
   "cell_type": "code",
   "execution_count": 31,
   "id": "a5827479-24ed-48f1-a986-a4961b388034",
   "metadata": {
    "tags": []
   },
   "outputs": [
    {
     "data": {
      "text/plain": [
       "array(nan, dtype=float32)"
      ]
     },
     "execution_count": 31,
     "metadata": {},
     "output_type": "execute_result"
    }
   ],
   "source": [
    "val=ds.V2M.mean().values\n",
    "val"
   ]
  },
  {
   "cell_type": "code",
   "execution_count": null,
   "id": "b620d484-c230-436e-9e68-bb9a44266881",
   "metadata": {
    "tags": []
   },
   "outputs": [],
   "source": [
    "# fix lat and lon fill_value in post_process method\n",
    "# Question: What fill value to use? using lon = 576 and lat = 361, going off https://goldsmr4.gesdisc.eosdis.nasa.gov/data/MERRA2_MONTHLY/M2C0NXASM.5.12.4/doc/MERRA2.README.pdf  for now\n",
    "#rerun with the new values \n",
    "import zarr\n",
    "def modify_fill_value(out):\n",
    "    out_ = zarr.open(out)\n",
    "    out_.lon.fill_value = -1e20\n",
    "    out_.lat.fill_value = -1e20\n",
    "    return out\n",
    "\n",
    "def postprocess(out):\n",
    "    out = modify_fill_value(out)\n",
    "    return out"
   ]
  },
  {
   "cell_type": "code",
   "execution_count": 34,
   "id": "e4fea87f-2fa5-46bb-9a63-280279f9c291",
   "metadata": {
    "tags": []
   },
   "outputs": [],
   "source": [
    "mzz = MultiZarrToZarr(json_list,                \n",
    "    remote_protocol='s3',\n",
    "    remote_options={'anon':True},\n",
    "    concat_dims=['time'], #this is the dimension along which the individual files will be merged\n",
    "    postprocess = postprocess\n",
    ")"
   ]
  },
  {
   "cell_type": "code",
   "execution_count": 38,
   "id": "d3782fa6-85c4-47dd-aa61-bb136e120e53",
   "metadata": {
    "tags": []
   },
   "outputs": [],
   "source": [
    "# mzz.translate() calls GetObject which is causing an Access Denied ClientError due to permissions\n",
    "'''\n",
    "ReferenceNotReachable: Reference \"DISPH/0.0.0\" failed to fetch target ['gesdisc-cumulus-prod-protected/MERRA2/M2T1NXSLV.5.12.4/2019/03/MERRA2_400.tavg1_2d_slv_Nx.20190301.nc4', 93284, 252]\n",
    "\n",
    "TODO: \n",
    "    check what .translate() is doing \n",
    "        -> why is it calling s3 if it has json files in efs? \n",
    "        -> is the access denied error due to time out of credentials or because of the GetObject? \n",
    "    \n",
    "'''"
   ]
  },
  {
   "cell_type": "code",
   "execution_count": null,
   "id": "6dcb2b1c-d1d2-4cd8-a08c-f5471f6dad8b",
   "metadata": {
    "tags": []
   },
   "outputs": [],
   "source": [
    "%%time\n",
    "d = mzz.translate()"
   ]
  },
  {
   "cell_type": "code",
   "execution_count": null,
   "id": "96801d95-021c-4916-bd29-21fb268a85c1",
   "metadata": {},
   "outputs": [],
   "source": [
    "with fs2.open('combined.json', 'wb') as f:\n",
    "    f.write(ujson.dumps(d).encode())"
   ]
  },
  {
   "cell_type": "code",
   "execution_count": null,
   "id": "d6494978-57fc-4778-af10-b916dfc5b6ba",
   "metadata": {},
   "outputs": [],
   "source": []
  },
  {
   "cell_type": "markdown",
   "id": "6df01d90-3f0e-49c7-81ae-57a5e2ac9a1b",
   "metadata": {},
   "source": [
    "## Using Intake // Notebook Recipe \n",
    "source: https://medium.com/pangeo/accessing-netcdf-and-grib-file-collections-as-cloud-native-virtual-datasets-using-kerchunk-625a2d0a9191#:~:text=To%20open%20a%20Kerchunk%20reference,using%20xarray%27s%20Zarr%20back-end"
   ]
  },
  {
   "cell_type": "code",
   "execution_count": null,
   "id": "12c3e11d-a047-4a0b-8c64-4e171ffb28e0",
   "metadata": {},
   "outputs": [],
   "source": [
    "import intake\n",
    "import xarray\n"
   ]
  },
  {
   "cell_type": "markdown",
   "id": "cd5c815d-e37e-40d3-8c50-2f54ff8e900d",
   "metadata": {},
   "source": [
    "## MERRA 2 Data Access Walkthrough // Expected Output\n",
    "Source: https://disc.gsfc.nasa.gov/information/howto?keywords=%22Earthdata%20Cloud%22&title=How%20to%20Directly%20Access%20MERRA-2%20Data%20from%20an%20S3%20Bucket%20with%20Python%20from%20a%20Cloud%20Environment"
   ]
  },
  {
   "cell_type": "code",
   "execution_count": 7,
   "id": "bb61744d-fafc-444f-92b3-ba7ffd7f9377",
   "metadata": {},
   "outputs": [],
   "source": [
    "from netrc import netrc\n",
    "from subprocess import Popen\n",
    "from platform import system\n",
    "from getpass import getpass\n",
    "import xarray as xr\n",
    "import boto3\n",
    "import cartopy.crs as ccrs\n",
    "import cartopy.feature as cfeature\n",
    "import matplotlib.pyplot as plt\n",
    "import warnings\n",
    "from IPython.display import display, Markdown\n",
    "\n",
    "\n",
    "warnings.filterwarnings('ignore')\n",
    "%matplotlib inline"
   ]
  },
  {
   "cell_type": "code",
   "execution_count": 3,
   "id": "cefd8d44-07ca-4d6e-a753-b285ae29d304",
   "metadata": {},
   "outputs": [
    {
     "data": {
      "text/plain": [
       "s3fs.core.S3FileSystem"
      ]
     },
     "execution_count": 3,
     "metadata": {},
     "output_type": "execute_result"
    }
   ],
   "source": [
    "##connect with s3 credentials from earthdata \n",
    "import requests\n",
    "import fsspec\n",
    "\n",
    "gesdisc_s3_url = \"https://data.gesdisc.earthdata.nasa.gov/s3credentials\"\n",
    "\n",
    "def begin_s3_direct_access(url: str=gesdisc_s3_url):\n",
    "    response = requests.get(url).json()\n",
    "    \n",
    "    s3_options = {\n",
    "        \"key\": response['accessKeyId'],\n",
    "        \"secret\": response['secretAccessKey'],\n",
    "        \"token\": response['sessionToken'],\n",
    "        \"client_kwargs\": {'region_name': 'us-west-2'}\n",
    "    }\n",
    "    \n",
    "    return fsspec.filesystem(\"s3\", **s3_options)\n",
    "\n",
    "s3fs = begin_s3_direct_access()\n",
    "\n",
    "# Check that the file system is intact as an S3FileSystem object, which means that token is valid\n",
    "# Common causes of rejected S3 access tokens include incorrect passwords stored in the netrc file, or a non-existent netrc file\n",
    "type(s3fs)\n"
   ]
  },
  {
   "cell_type": "code",
   "execution_count": 5,
   "id": "fcee71fb-e8dc-4370-9888-c92ca9507ff0",
   "metadata": {
    "tags": []
   },
   "outputs": [
    {
     "data": {
      "text/plain": [
       "{'ETag': '\"ab39493d3182642efbf610439b3d1d29-2\"',\n",
       " 'LastModified': datetime.datetime(2021, 3, 18, 23, 32, 5, tzinfo=tzutc()),\n",
       " 'size': 415071782,\n",
       " 'name': 'gesdisc-cumulus-prod-protected/MERRA2/M2T1NXSLV.5.12.4/2019/03/MERRA2_400.tavg1_2d_slv_Nx.20190313.nc4',\n",
       " 'type': 'file',\n",
       " 'StorageClass': 'STANDARD',\n",
       " 'VersionId': None,\n",
       " 'ContentType': 'application/octet-stream'}"
      ]
     },
     "execution_count": 5,
     "metadata": {},
     "output_type": "execute_result"
    }
   ],
   "source": [
    "s3file = 's3://gesdisc-cumulus-prod-protected/MERRA2/M2T1NXSLV.5.12.4/2019/03/MERRA2_400.tavg1_2d_slv_Nx.20190313.nc4'\n",
    "\n",
    "s3fs.info(s3file)"
   ]
  },
  {
   "cell_type": "code",
   "execution_count": 8,
   "id": "1339c049-8c0d-47ca-ab25-d922a03f3873",
   "metadata": {
    "tags": []
   },
   "outputs": [
    {
     "data": {
      "text/plain": [
       "array([[ 985.77765,  985.77765,  985.77765, ...,  985.77765,  985.77765,\n",
       "         985.77765],\n",
       "       [ 985.1326 ,  985.1326 ,  985.1326 , ...,  985.13763,  985.13763,\n",
       "         985.1326 ],\n",
       "       [ 983.9426 ,  983.9377 ,  983.9377 , ...,  983.95264,  983.94763,\n",
       "         983.94763],\n",
       "       ...,\n",
       "       [1007.2477 , 1007.26013, 1007.27014, ..., 1007.21014, 1007.22266,\n",
       "        1007.23517],\n",
       "       [1007.67017, 1007.6752 , 1007.6777 , ..., 1007.65765, 1007.66266,\n",
       "        1007.66516],\n",
       "       [1007.97766, 1007.97766, 1007.97766, ..., 1007.97766, 1007.97766,\n",
       "        1007.97766]], dtype=float32)"
      ]
     },
     "execution_count": 8,
     "metadata": {},
     "output_type": "execute_result"
    }
   ],
   "source": [
    "ds = xr.open_dataset(s3fs.open(s3file), decode_cf=True,)\n",
    "\n",
    "# Subset SLP at 15:30Z, convert units\n",
    "slp = ds.SLP.values[15,:,:] / 100 # convert to hPa\n",
    "\n",
    "slp"
   ]
  },
  {
   "cell_type": "code",
   "execution_count": 9,
   "id": "a4704f29-1fbb-4a5e-8565-c03fb3fd86a9",
   "metadata": {
    "tags": []
   },
   "outputs": [
    {
     "data": {
      "text/html": [
       "<div><svg style=\"position: absolute; width: 0; height: 0; overflow: hidden\">\n",
       "<defs>\n",
       "<symbol id=\"icon-database\" viewBox=\"0 0 32 32\">\n",
       "<path d=\"M16 0c-8.837 0-16 2.239-16 5v4c0 2.761 7.163 5 16 5s16-2.239 16-5v-4c0-2.761-7.163-5-16-5z\"></path>\n",
       "<path d=\"M16 17c-8.837 0-16-2.239-16-5v6c0 2.761 7.163 5 16 5s16-2.239 16-5v-6c0 2.761-7.163 5-16 5z\"></path>\n",
       "<path d=\"M16 26c-8.837 0-16-2.239-16-5v6c0 2.761 7.163 5 16 5s16-2.239 16-5v-6c0 2.761-7.163 5-16 5z\"></path>\n",
       "</symbol>\n",
       "<symbol id=\"icon-file-text2\" viewBox=\"0 0 32 32\">\n",
       "<path d=\"M28.681 7.159c-0.694-0.947-1.662-2.053-2.724-3.116s-2.169-2.030-3.116-2.724c-1.612-1.182-2.393-1.319-2.841-1.319h-15.5c-1.378 0-2.5 1.121-2.5 2.5v27c0 1.378 1.122 2.5 2.5 2.5h23c1.378 0 2.5-1.122 2.5-2.5v-19.5c0-0.448-0.137-1.23-1.319-2.841zM24.543 5.457c0.959 0.959 1.712 1.825 2.268 2.543h-4.811v-4.811c0.718 0.556 1.584 1.309 2.543 2.268zM28 29.5c0 0.271-0.229 0.5-0.5 0.5h-23c-0.271 0-0.5-0.229-0.5-0.5v-27c0-0.271 0.229-0.5 0.5-0.5 0 0 15.499-0 15.5 0v7c0 0.552 0.448 1 1 1h7v19.5z\"></path>\n",
       "<path d=\"M23 26h-14c-0.552 0-1-0.448-1-1s0.448-1 1-1h14c0.552 0 1 0.448 1 1s-0.448 1-1 1z\"></path>\n",
       "<path d=\"M23 22h-14c-0.552 0-1-0.448-1-1s0.448-1 1-1h14c0.552 0 1 0.448 1 1s-0.448 1-1 1z\"></path>\n",
       "<path d=\"M23 18h-14c-0.552 0-1-0.448-1-1s0.448-1 1-1h14c0.552 0 1 0.448 1 1s-0.448 1-1 1z\"></path>\n",
       "</symbol>\n",
       "</defs>\n",
       "</svg>\n",
       "<style>/* CSS stylesheet for displaying xarray objects in jupyterlab.\n",
       " *\n",
       " */\n",
       "\n",
       ":root {\n",
       "  --xr-font-color0: var(--jp-content-font-color0, rgba(0, 0, 0, 1));\n",
       "  --xr-font-color2: var(--jp-content-font-color2, rgba(0, 0, 0, 0.54));\n",
       "  --xr-font-color3: var(--jp-content-font-color3, rgba(0, 0, 0, 0.38));\n",
       "  --xr-border-color: var(--jp-border-color2, #e0e0e0);\n",
       "  --xr-disabled-color: var(--jp-layout-color3, #bdbdbd);\n",
       "  --xr-background-color: var(--jp-layout-color0, white);\n",
       "  --xr-background-color-row-even: var(--jp-layout-color1, white);\n",
       "  --xr-background-color-row-odd: var(--jp-layout-color2, #eeeeee);\n",
       "}\n",
       "\n",
       "html[theme=dark],\n",
       "body[data-theme=dark],\n",
       "body.vscode-dark {\n",
       "  --xr-font-color0: rgba(255, 255, 255, 1);\n",
       "  --xr-font-color2: rgba(255, 255, 255, 0.54);\n",
       "  --xr-font-color3: rgba(255, 255, 255, 0.38);\n",
       "  --xr-border-color: #1F1F1F;\n",
       "  --xr-disabled-color: #515151;\n",
       "  --xr-background-color: #111111;\n",
       "  --xr-background-color-row-even: #111111;\n",
       "  --xr-background-color-row-odd: #313131;\n",
       "}\n",
       "\n",
       ".xr-wrap {\n",
       "  display: block !important;\n",
       "  min-width: 300px;\n",
       "  max-width: 700px;\n",
       "}\n",
       "\n",
       ".xr-text-repr-fallback {\n",
       "  /* fallback to plain text repr when CSS is not injected (untrusted notebook) */\n",
       "  display: none;\n",
       "}\n",
       "\n",
       ".xr-header {\n",
       "  padding-top: 6px;\n",
       "  padding-bottom: 6px;\n",
       "  margin-bottom: 4px;\n",
       "  border-bottom: solid 1px var(--xr-border-color);\n",
       "}\n",
       "\n",
       ".xr-header > div,\n",
       ".xr-header > ul {\n",
       "  display: inline;\n",
       "  margin-top: 0;\n",
       "  margin-bottom: 0;\n",
       "}\n",
       "\n",
       ".xr-obj-type,\n",
       ".xr-array-name {\n",
       "  margin-left: 2px;\n",
       "  margin-right: 10px;\n",
       "}\n",
       "\n",
       ".xr-obj-type {\n",
       "  color: var(--xr-font-color2);\n",
       "}\n",
       "\n",
       ".xr-sections {\n",
       "  padding-left: 0 !important;\n",
       "  display: grid;\n",
       "  grid-template-columns: 150px auto auto 1fr 20px 20px;\n",
       "}\n",
       "\n",
       ".xr-section-item {\n",
       "  display: contents;\n",
       "}\n",
       "\n",
       ".xr-section-item input {\n",
       "  display: none;\n",
       "}\n",
       "\n",
       ".xr-section-item input + label {\n",
       "  color: var(--xr-disabled-color);\n",
       "}\n",
       "\n",
       ".xr-section-item input:enabled + label {\n",
       "  cursor: pointer;\n",
       "  color: var(--xr-font-color2);\n",
       "}\n",
       "\n",
       ".xr-section-item input:enabled + label:hover {\n",
       "  color: var(--xr-font-color0);\n",
       "}\n",
       "\n",
       ".xr-section-summary {\n",
       "  grid-column: 1;\n",
       "  color: var(--xr-font-color2);\n",
       "  font-weight: 500;\n",
       "}\n",
       "\n",
       ".xr-section-summary > span {\n",
       "  display: inline-block;\n",
       "  padding-left: 0.5em;\n",
       "}\n",
       "\n",
       ".xr-section-summary-in:disabled + label {\n",
       "  color: var(--xr-font-color2);\n",
       "}\n",
       "\n",
       ".xr-section-summary-in + label:before {\n",
       "  display: inline-block;\n",
       "  content: '►';\n",
       "  font-size: 11px;\n",
       "  width: 15px;\n",
       "  text-align: center;\n",
       "}\n",
       "\n",
       ".xr-section-summary-in:disabled + label:before {\n",
       "  color: var(--xr-disabled-color);\n",
       "}\n",
       "\n",
       ".xr-section-summary-in:checked + label:before {\n",
       "  content: '▼';\n",
       "}\n",
       "\n",
       ".xr-section-summary-in:checked + label > span {\n",
       "  display: none;\n",
       "}\n",
       "\n",
       ".xr-section-summary,\n",
       ".xr-section-inline-details {\n",
       "  padding-top: 4px;\n",
       "  padding-bottom: 4px;\n",
       "}\n",
       "\n",
       ".xr-section-inline-details {\n",
       "  grid-column: 2 / -1;\n",
       "}\n",
       "\n",
       ".xr-section-details {\n",
       "  display: none;\n",
       "  grid-column: 1 / -1;\n",
       "  margin-bottom: 5px;\n",
       "}\n",
       "\n",
       ".xr-section-summary-in:checked ~ .xr-section-details {\n",
       "  display: contents;\n",
       "}\n",
       "\n",
       ".xr-array-wrap {\n",
       "  grid-column: 1 / -1;\n",
       "  display: grid;\n",
       "  grid-template-columns: 20px auto;\n",
       "}\n",
       "\n",
       ".xr-array-wrap > label {\n",
       "  grid-column: 1;\n",
       "  vertical-align: top;\n",
       "}\n",
       "\n",
       ".xr-preview {\n",
       "  color: var(--xr-font-color3);\n",
       "}\n",
       "\n",
       ".xr-array-preview,\n",
       ".xr-array-data {\n",
       "  padding: 0 5px !important;\n",
       "  grid-column: 2;\n",
       "}\n",
       "\n",
       ".xr-array-data,\n",
       ".xr-array-in:checked ~ .xr-array-preview {\n",
       "  display: none;\n",
       "}\n",
       "\n",
       ".xr-array-in:checked ~ .xr-array-data,\n",
       ".xr-array-preview {\n",
       "  display: inline-block;\n",
       "}\n",
       "\n",
       ".xr-dim-list {\n",
       "  display: inline-block !important;\n",
       "  list-style: none;\n",
       "  padding: 0 !important;\n",
       "  margin: 0;\n",
       "}\n",
       "\n",
       ".xr-dim-list li {\n",
       "  display: inline-block;\n",
       "  padding: 0;\n",
       "  margin: 0;\n",
       "}\n",
       "\n",
       ".xr-dim-list:before {\n",
       "  content: '(';\n",
       "}\n",
       "\n",
       ".xr-dim-list:after {\n",
       "  content: ')';\n",
       "}\n",
       "\n",
       ".xr-dim-list li:not(:last-child):after {\n",
       "  content: ',';\n",
       "  padding-right: 5px;\n",
       "}\n",
       "\n",
       ".xr-has-index {\n",
       "  font-weight: bold;\n",
       "}\n",
       "\n",
       ".xr-var-list,\n",
       ".xr-var-item {\n",
       "  display: contents;\n",
       "}\n",
       "\n",
       ".xr-var-item > div,\n",
       ".xr-var-item label,\n",
       ".xr-var-item > .xr-var-name span {\n",
       "  background-color: var(--xr-background-color-row-even);\n",
       "  margin-bottom: 0;\n",
       "}\n",
       "\n",
       ".xr-var-item > .xr-var-name:hover span {\n",
       "  padding-right: 5px;\n",
       "}\n",
       "\n",
       ".xr-var-list > li:nth-child(odd) > div,\n",
       ".xr-var-list > li:nth-child(odd) > label,\n",
       ".xr-var-list > li:nth-child(odd) > .xr-var-name span {\n",
       "  background-color: var(--xr-background-color-row-odd);\n",
       "}\n",
       "\n",
       ".xr-var-name {\n",
       "  grid-column: 1;\n",
       "}\n",
       "\n",
       ".xr-var-dims {\n",
       "  grid-column: 2;\n",
       "}\n",
       "\n",
       ".xr-var-dtype {\n",
       "  grid-column: 3;\n",
       "  text-align: right;\n",
       "  color: var(--xr-font-color2);\n",
       "}\n",
       "\n",
       ".xr-var-preview {\n",
       "  grid-column: 4;\n",
       "}\n",
       "\n",
       ".xr-index-preview {\n",
       "  grid-column: 2 / 5;\n",
       "  color: var(--xr-font-color2);\n",
       "}\n",
       "\n",
       ".xr-var-name,\n",
       ".xr-var-dims,\n",
       ".xr-var-dtype,\n",
       ".xr-preview,\n",
       ".xr-attrs dt {\n",
       "  white-space: nowrap;\n",
       "  overflow: hidden;\n",
       "  text-overflow: ellipsis;\n",
       "  padding-right: 10px;\n",
       "}\n",
       "\n",
       ".xr-var-name:hover,\n",
       ".xr-var-dims:hover,\n",
       ".xr-var-dtype:hover,\n",
       ".xr-attrs dt:hover {\n",
       "  overflow: visible;\n",
       "  width: auto;\n",
       "  z-index: 1;\n",
       "}\n",
       "\n",
       ".xr-var-attrs,\n",
       ".xr-var-data,\n",
       ".xr-index-data {\n",
       "  display: none;\n",
       "  background-color: var(--xr-background-color) !important;\n",
       "  padding-bottom: 5px !important;\n",
       "}\n",
       "\n",
       ".xr-var-attrs-in:checked ~ .xr-var-attrs,\n",
       ".xr-var-data-in:checked ~ .xr-var-data,\n",
       ".xr-index-data-in:checked ~ .xr-index-data {\n",
       "  display: block;\n",
       "}\n",
       "\n",
       ".xr-var-data > table {\n",
       "  float: right;\n",
       "}\n",
       "\n",
       ".xr-var-name span,\n",
       ".xr-var-data,\n",
       ".xr-index-name div,\n",
       ".xr-index-data,\n",
       ".xr-attrs {\n",
       "  padding-left: 25px !important;\n",
       "}\n",
       "\n",
       ".xr-attrs,\n",
       ".xr-var-attrs,\n",
       ".xr-var-data,\n",
       ".xr-index-data {\n",
       "  grid-column: 1 / -1;\n",
       "}\n",
       "\n",
       "dl.xr-attrs {\n",
       "  padding: 0;\n",
       "  margin: 0;\n",
       "  display: grid;\n",
       "  grid-template-columns: 125px auto;\n",
       "}\n",
       "\n",
       ".xr-attrs dt,\n",
       ".xr-attrs dd {\n",
       "  padding: 0;\n",
       "  margin: 0;\n",
       "  float: left;\n",
       "  padding-right: 10px;\n",
       "  width: auto;\n",
       "}\n",
       "\n",
       ".xr-attrs dt {\n",
       "  font-weight: normal;\n",
       "  grid-column: 1;\n",
       "}\n",
       "\n",
       ".xr-attrs dt:hover span {\n",
       "  display: inline-block;\n",
       "  background: var(--xr-background-color);\n",
       "  padding-right: 10px;\n",
       "}\n",
       "\n",
       ".xr-attrs dd {\n",
       "  grid-column: 2;\n",
       "  white-space: pre-wrap;\n",
       "  word-break: break-all;\n",
       "}\n",
       "\n",
       ".xr-icon-database,\n",
       ".xr-icon-file-text2,\n",
       ".xr-no-icon {\n",
       "  display: inline-block;\n",
       "  vertical-align: middle;\n",
       "  width: 1em;\n",
       "  height: 1.5em !important;\n",
       "  stroke-width: 0;\n",
       "  stroke: currentColor;\n",
       "  fill: currentColor;\n",
       "}\n",
       "</style><pre class='xr-text-repr-fallback'>&lt;xarray.Dataset&gt;\n",
       "Dimensions:   (lon: 576, lat: 361, time: 24)\n",
       "Coordinates:\n",
       "  * lon       (lon) float64 -180.0 -179.4 -178.8 -178.1 ... 178.1 178.8 179.4\n",
       "  * lat       (lat) float64 -90.0 -89.5 -89.0 -88.5 ... 88.5 89.0 89.5 90.0\n",
       "  * time      (time) datetime64[ns] 2019-03-13T00:30:00 ... 2019-03-13T23:30:00\n",
       "Data variables: (12/47)\n",
       "    CLDPRS    (time, lat, lon) float32 ...\n",
       "    CLDTMP    (time, lat, lon) float32 ...\n",
       "    DISPH     (time, lat, lon) float32 ...\n",
       "    H1000     (time, lat, lon) float32 ...\n",
       "    H250      (time, lat, lon) float32 ...\n",
       "    H500      (time, lat, lon) float32 ...\n",
       "    ...        ...\n",
       "    V250      (time, lat, lon) float32 ...\n",
       "    V2M       (time, lat, lon) float32 ...\n",
       "    V500      (time, lat, lon) float32 ...\n",
       "    V50M      (time, lat, lon) float32 ...\n",
       "    V850      (time, lat, lon) float32 ...\n",
       "    ZLCL      (time, lat, lon) float32 ...\n",
       "Attributes: (12/30)\n",
       "    History:                           Original file generated: Sat Mar 23 22...\n",
       "    Comment:                           GMAO filename: d5124_m2_jan10.tavg1_2d...\n",
       "    Filename:                          MERRA2_400.tavg1_2d_slv_Nx.20190313.nc4\n",
       "    Conventions:                       CF-1\n",
       "    Institution:                       NASA Global Modeling and Assimilation ...\n",
       "    References:                        http://gmao.gsfc.nasa.gov\n",
       "    ...                                ...\n",
       "    Contact:                           http://gmao.gsfc.nasa.gov\n",
       "    identifier_product_doi:            10.5067/VJAFPLI1CSIV\n",
       "    RangeBeginningDate:                2019-03-13\n",
       "    RangeBeginningTime:                00:00:00.000000\n",
       "    RangeEndingDate:                   2019-03-13\n",
       "    RangeEndingTime:                   23:59:59.000000</pre><div class='xr-wrap' style='display:none'><div class='xr-header'><div class='xr-obj-type'>xarray.Dataset</div></div><ul class='xr-sections'><li class='xr-section-item'><input id='section-5dbd63aa-42db-41df-b359-13a0832cb674' class='xr-section-summary-in' type='checkbox' disabled ><label for='section-5dbd63aa-42db-41df-b359-13a0832cb674' class='xr-section-summary'  title='Expand/collapse section'>Dimensions:</label><div class='xr-section-inline-details'><ul class='xr-dim-list'><li><span class='xr-has-index'>lon</span>: 576</li><li><span class='xr-has-index'>lat</span>: 361</li><li><span class='xr-has-index'>time</span>: 24</li></ul></div><div class='xr-section-details'></div></li><li class='xr-section-item'><input id='section-1faab871-4c85-42cc-a6b3-0e02272e851d' class='xr-section-summary-in' type='checkbox'  checked><label for='section-1faab871-4c85-42cc-a6b3-0e02272e851d' class='xr-section-summary' >Coordinates: <span>(3)</span></label><div class='xr-section-inline-details'></div><div class='xr-section-details'><ul class='xr-var-list'><li class='xr-var-item'><div class='xr-var-name'><span class='xr-has-index'>lon</span></div><div class='xr-var-dims'>(lon)</div><div class='xr-var-dtype'>float64</div><div class='xr-var-preview xr-preview'>-180.0 -179.4 ... 178.8 179.4</div><input id='attrs-df247609-63d3-4ab4-8fc5-d9d9b04b6f7c' class='xr-var-attrs-in' type='checkbox' ><label for='attrs-df247609-63d3-4ab4-8fc5-d9d9b04b6f7c' title='Show/Hide attributes'><svg class='icon xr-icon-file-text2'><use xlink:href='#icon-file-text2'></use></svg></label><input id='data-164aa025-00c2-424f-86f1-d1906861fe66' class='xr-var-data-in' type='checkbox'><label for='data-164aa025-00c2-424f-86f1-d1906861fe66' title='Show/Hide data repr'><svg class='icon xr-icon-database'><use xlink:href='#icon-database'></use></svg></label><div class='xr-var-attrs'><dl class='xr-attrs'><dt><span>long_name :</span></dt><dd>longitude</dd><dt><span>units :</span></dt><dd>degrees_east</dd><dt><span>vmax :</span></dt><dd>1000000000000000.0</dd><dt><span>vmin :</span></dt><dd>-1000000000000000.0</dd><dt><span>valid_range :</span></dt><dd>[-1.e+15  1.e+15]</dd></dl></div><div class='xr-var-data'><pre>array([-180.   , -179.375, -178.75 , ...,  178.125,  178.75 ,  179.375])</pre></div></li><li class='xr-var-item'><div class='xr-var-name'><span class='xr-has-index'>lat</span></div><div class='xr-var-dims'>(lat)</div><div class='xr-var-dtype'>float64</div><div class='xr-var-preview xr-preview'>-90.0 -89.5 -89.0 ... 89.5 90.0</div><input id='attrs-4ea349d0-9df5-4ef9-948c-fce2587503e5' class='xr-var-attrs-in' type='checkbox' ><label for='attrs-4ea349d0-9df5-4ef9-948c-fce2587503e5' title='Show/Hide attributes'><svg class='icon xr-icon-file-text2'><use xlink:href='#icon-file-text2'></use></svg></label><input id='data-eb7eec7f-1103-4be6-8dac-0cb2070cf3e8' class='xr-var-data-in' type='checkbox'><label for='data-eb7eec7f-1103-4be6-8dac-0cb2070cf3e8' title='Show/Hide data repr'><svg class='icon xr-icon-database'><use xlink:href='#icon-database'></use></svg></label><div class='xr-var-attrs'><dl class='xr-attrs'><dt><span>long_name :</span></dt><dd>latitude</dd><dt><span>units :</span></dt><dd>degrees_north</dd><dt><span>vmax :</span></dt><dd>1000000000000000.0</dd><dt><span>vmin :</span></dt><dd>-1000000000000000.0</dd><dt><span>valid_range :</span></dt><dd>[-1.e+15  1.e+15]</dd></dl></div><div class='xr-var-data'><pre>array([-90. , -89.5, -89. , ...,  89. ,  89.5,  90. ])</pre></div></li><li class='xr-var-item'><div class='xr-var-name'><span class='xr-has-index'>time</span></div><div class='xr-var-dims'>(time)</div><div class='xr-var-dtype'>datetime64[ns]</div><div class='xr-var-preview xr-preview'>2019-03-13T00:30:00 ... 2019-03-...</div><input id='attrs-976adce5-b4a8-4e24-b238-9a6828dbc152' class='xr-var-attrs-in' type='checkbox' ><label for='attrs-976adce5-b4a8-4e24-b238-9a6828dbc152' title='Show/Hide attributes'><svg class='icon xr-icon-file-text2'><use xlink:href='#icon-file-text2'></use></svg></label><input id='data-0428e6a7-6e86-41bc-bb92-176ce899df4d' class='xr-var-data-in' type='checkbox'><label for='data-0428e6a7-6e86-41bc-bb92-176ce899df4d' title='Show/Hide data repr'><svg class='icon xr-icon-database'><use xlink:href='#icon-database'></use></svg></label><div class='xr-var-attrs'><dl class='xr-attrs'><dt><span>long_name :</span></dt><dd>time</dd><dt><span>time_increment :</span></dt><dd>10000</dd><dt><span>begin_date :</span></dt><dd>20190313</dd><dt><span>begin_time :</span></dt><dd>3000</dd><dt><span>vmax :</span></dt><dd>1000000000000000.0</dd><dt><span>vmin :</span></dt><dd>-1000000000000000.0</dd><dt><span>valid_range :</span></dt><dd>[-1.e+15  1.e+15]</dd></dl></div><div class='xr-var-data'><pre>array([&#x27;2019-03-13T00:30:00.000000000&#x27;, &#x27;2019-03-13T01:30:00.000000000&#x27;,\n",
       "       &#x27;2019-03-13T02:30:00.000000000&#x27;, &#x27;2019-03-13T03:30:00.000000000&#x27;,\n",
       "       &#x27;2019-03-13T04:30:00.000000000&#x27;, &#x27;2019-03-13T05:30:00.000000000&#x27;,\n",
       "       &#x27;2019-03-13T06:30:00.000000000&#x27;, &#x27;2019-03-13T07:30:00.000000000&#x27;,\n",
       "       &#x27;2019-03-13T08:30:00.000000000&#x27;, &#x27;2019-03-13T09:30:00.000000000&#x27;,\n",
       "       &#x27;2019-03-13T10:30:00.000000000&#x27;, &#x27;2019-03-13T11:30:00.000000000&#x27;,\n",
       "       &#x27;2019-03-13T12:30:00.000000000&#x27;, &#x27;2019-03-13T13:30:00.000000000&#x27;,\n",
       "       &#x27;2019-03-13T14:30:00.000000000&#x27;, &#x27;2019-03-13T15:30:00.000000000&#x27;,\n",
       "       &#x27;2019-03-13T16:30:00.000000000&#x27;, &#x27;2019-03-13T17:30:00.000000000&#x27;,\n",
       "       &#x27;2019-03-13T18:30:00.000000000&#x27;, &#x27;2019-03-13T19:30:00.000000000&#x27;,\n",
       "       &#x27;2019-03-13T20:30:00.000000000&#x27;, &#x27;2019-03-13T21:30:00.000000000&#x27;,\n",
       "       &#x27;2019-03-13T22:30:00.000000000&#x27;, &#x27;2019-03-13T23:30:00.000000000&#x27;],\n",
       "      dtype=&#x27;datetime64[ns]&#x27;)</pre></div></li></ul></div></li><li class='xr-section-item'><input id='section-c51d9cb3-5cc8-4140-921d-4f6aefd04503' class='xr-section-summary-in' type='checkbox'  ><label for='section-c51d9cb3-5cc8-4140-921d-4f6aefd04503' class='xr-section-summary' >Data variables: <span>(47)</span></label><div class='xr-section-inline-details'></div><div class='xr-section-details'><ul class='xr-var-list'><li class='xr-var-item'><div class='xr-var-name'><span>CLDPRS</span></div><div class='xr-var-dims'>(time, lat, lon)</div><div class='xr-var-dtype'>float32</div><div class='xr-var-preview xr-preview'>...</div><input id='attrs-e98f7d3e-0a8c-4a48-a022-3f8f4491f394' class='xr-var-attrs-in' type='checkbox' ><label for='attrs-e98f7d3e-0a8c-4a48-a022-3f8f4491f394' title='Show/Hide attributes'><svg class='icon xr-icon-file-text2'><use xlink:href='#icon-file-text2'></use></svg></label><input id='data-4c6b21b6-539e-4657-9f2a-0c39bd0550ed' class='xr-var-data-in' type='checkbox'><label for='data-4c6b21b6-539e-4657-9f2a-0c39bd0550ed' title='Show/Hide data repr'><svg class='icon xr-icon-database'><use xlink:href='#icon-database'></use></svg></label><div class='xr-var-attrs'><dl class='xr-attrs'><dt><span>long_name :</span></dt><dd>cloud_top_pressure</dd><dt><span>units :</span></dt><dd>Pa</dd><dt><span>fmissing_value :</span></dt><dd>1000000000000000.0</dd><dt><span>standard_name :</span></dt><dd>cloud_top_pressure</dd><dt><span>vmax :</span></dt><dd>1000000000000000.0</dd><dt><span>vmin :</span></dt><dd>-1000000000000000.0</dd><dt><span>valid_range :</span></dt><dd>[-1.e+15  1.e+15]</dd></dl></div><div class='xr-var-data'><pre>[4990464 values with dtype=float32]</pre></div></li><li class='xr-var-item'><div class='xr-var-name'><span>CLDTMP</span></div><div class='xr-var-dims'>(time, lat, lon)</div><div class='xr-var-dtype'>float32</div><div class='xr-var-preview xr-preview'>...</div><input id='attrs-cf28d800-9d45-45a2-91ba-4b7cd7eb4be6' class='xr-var-attrs-in' type='checkbox' ><label for='attrs-cf28d800-9d45-45a2-91ba-4b7cd7eb4be6' title='Show/Hide attributes'><svg class='icon xr-icon-file-text2'><use xlink:href='#icon-file-text2'></use></svg></label><input id='data-fd776552-255a-4d5d-a4f3-c44e0e28ffb5' class='xr-var-data-in' type='checkbox'><label for='data-fd776552-255a-4d5d-a4f3-c44e0e28ffb5' title='Show/Hide data repr'><svg class='icon xr-icon-database'><use xlink:href='#icon-database'></use></svg></label><div class='xr-var-attrs'><dl class='xr-attrs'><dt><span>long_name :</span></dt><dd>cloud_top_temperature</dd><dt><span>units :</span></dt><dd>K</dd><dt><span>fmissing_value :</span></dt><dd>1000000000000000.0</dd><dt><span>standard_name :</span></dt><dd>cloud_top_temperature</dd><dt><span>vmax :</span></dt><dd>1000000000000000.0</dd><dt><span>vmin :</span></dt><dd>-1000000000000000.0</dd><dt><span>valid_range :</span></dt><dd>[-1.e+15  1.e+15]</dd></dl></div><div class='xr-var-data'><pre>[4990464 values with dtype=float32]</pre></div></li><li class='xr-var-item'><div class='xr-var-name'><span>DISPH</span></div><div class='xr-var-dims'>(time, lat, lon)</div><div class='xr-var-dtype'>float32</div><div class='xr-var-preview xr-preview'>...</div><input id='attrs-ef376456-98a5-40b9-b9bd-97bbd355d52d' class='xr-var-attrs-in' type='checkbox' ><label for='attrs-ef376456-98a5-40b9-b9bd-97bbd355d52d' title='Show/Hide attributes'><svg class='icon xr-icon-file-text2'><use xlink:href='#icon-file-text2'></use></svg></label><input id='data-fdece2f0-ebd9-4526-9a4a-9b1a0811c415' class='xr-var-data-in' type='checkbox'><label for='data-fdece2f0-ebd9-4526-9a4a-9b1a0811c415' title='Show/Hide data repr'><svg class='icon xr-icon-database'><use xlink:href='#icon-database'></use></svg></label><div class='xr-var-attrs'><dl class='xr-attrs'><dt><span>long_name :</span></dt><dd>zero_plane_displacement_height</dd><dt><span>units :</span></dt><dd>m</dd><dt><span>fmissing_value :</span></dt><dd>1000000000000000.0</dd><dt><span>standard_name :</span></dt><dd>zero_plane_displacement_height</dd><dt><span>vmax :</span></dt><dd>1000000000000000.0</dd><dt><span>vmin :</span></dt><dd>-1000000000000000.0</dd><dt><span>valid_range :</span></dt><dd>[-1.e+15  1.e+15]</dd></dl></div><div class='xr-var-data'><pre>[4990464 values with dtype=float32]</pre></div></li><li class='xr-var-item'><div class='xr-var-name'><span>H1000</span></div><div class='xr-var-dims'>(time, lat, lon)</div><div class='xr-var-dtype'>float32</div><div class='xr-var-preview xr-preview'>...</div><input id='attrs-a73503e9-8e43-42e3-b822-30257fa84dc5' class='xr-var-attrs-in' type='checkbox' ><label for='attrs-a73503e9-8e43-42e3-b822-30257fa84dc5' title='Show/Hide attributes'><svg class='icon xr-icon-file-text2'><use xlink:href='#icon-file-text2'></use></svg></label><input id='data-09f32fd1-dd86-44c7-920a-59edaadd4b4f' class='xr-var-data-in' type='checkbox'><label for='data-09f32fd1-dd86-44c7-920a-59edaadd4b4f' title='Show/Hide data repr'><svg class='icon xr-icon-database'><use xlink:href='#icon-database'></use></svg></label><div class='xr-var-attrs'><dl class='xr-attrs'><dt><span>long_name :</span></dt><dd>height_at_1000_mb</dd><dt><span>units :</span></dt><dd>m</dd><dt><span>fmissing_value :</span></dt><dd>1000000000000000.0</dd><dt><span>standard_name :</span></dt><dd>height_at_1000_mb</dd><dt><span>vmax :</span></dt><dd>1000000000000000.0</dd><dt><span>vmin :</span></dt><dd>-1000000000000000.0</dd><dt><span>valid_range :</span></dt><dd>[-1.e+15  1.e+15]</dd></dl></div><div class='xr-var-data'><pre>[4990464 values with dtype=float32]</pre></div></li><li class='xr-var-item'><div class='xr-var-name'><span>H250</span></div><div class='xr-var-dims'>(time, lat, lon)</div><div class='xr-var-dtype'>float32</div><div class='xr-var-preview xr-preview'>...</div><input id='attrs-7bc5641a-653f-4aa7-ba96-b915299b4a38' class='xr-var-attrs-in' type='checkbox' ><label for='attrs-7bc5641a-653f-4aa7-ba96-b915299b4a38' title='Show/Hide attributes'><svg class='icon xr-icon-file-text2'><use xlink:href='#icon-file-text2'></use></svg></label><input id='data-92e4cc62-bb82-4b4a-a8a2-c2c7f84428df' class='xr-var-data-in' type='checkbox'><label for='data-92e4cc62-bb82-4b4a-a8a2-c2c7f84428df' title='Show/Hide data repr'><svg class='icon xr-icon-database'><use xlink:href='#icon-database'></use></svg></label><div class='xr-var-attrs'><dl class='xr-attrs'><dt><span>long_name :</span></dt><dd>height_at_250_hPa</dd><dt><span>units :</span></dt><dd>m</dd><dt><span>fmissing_value :</span></dt><dd>1000000000000000.0</dd><dt><span>standard_name :</span></dt><dd>height_at_250_hPa</dd><dt><span>vmax :</span></dt><dd>1000000000000000.0</dd><dt><span>vmin :</span></dt><dd>-1000000000000000.0</dd><dt><span>valid_range :</span></dt><dd>[-1.e+15  1.e+15]</dd></dl></div><div class='xr-var-data'><pre>[4990464 values with dtype=float32]</pre></div></li><li class='xr-var-item'><div class='xr-var-name'><span>H500</span></div><div class='xr-var-dims'>(time, lat, lon)</div><div class='xr-var-dtype'>float32</div><div class='xr-var-preview xr-preview'>...</div><input id='attrs-95cb1ae8-2c26-4580-9f93-8cef06d24b2a' class='xr-var-attrs-in' type='checkbox' ><label for='attrs-95cb1ae8-2c26-4580-9f93-8cef06d24b2a' title='Show/Hide attributes'><svg class='icon xr-icon-file-text2'><use xlink:href='#icon-file-text2'></use></svg></label><input id='data-f549b6ed-abc3-4243-b0e7-6950252eddaa' class='xr-var-data-in' type='checkbox'><label for='data-f549b6ed-abc3-4243-b0e7-6950252eddaa' title='Show/Hide data repr'><svg class='icon xr-icon-database'><use xlink:href='#icon-database'></use></svg></label><div class='xr-var-attrs'><dl class='xr-attrs'><dt><span>long_name :</span></dt><dd>height_at_500_hPa</dd><dt><span>units :</span></dt><dd>m</dd><dt><span>fmissing_value :</span></dt><dd>1000000000000000.0</dd><dt><span>standard_name :</span></dt><dd>height_at_500_hPa</dd><dt><span>vmax :</span></dt><dd>1000000000000000.0</dd><dt><span>vmin :</span></dt><dd>-1000000000000000.0</dd><dt><span>valid_range :</span></dt><dd>[-1.e+15  1.e+15]</dd></dl></div><div class='xr-var-data'><pre>[4990464 values with dtype=float32]</pre></div></li><li class='xr-var-item'><div class='xr-var-name'><span>H850</span></div><div class='xr-var-dims'>(time, lat, lon)</div><div class='xr-var-dtype'>float32</div><div class='xr-var-preview xr-preview'>...</div><input id='attrs-44bd81e9-9916-4b30-a8ba-911611820470' class='xr-var-attrs-in' type='checkbox' ><label for='attrs-44bd81e9-9916-4b30-a8ba-911611820470' title='Show/Hide attributes'><svg class='icon xr-icon-file-text2'><use xlink:href='#icon-file-text2'></use></svg></label><input id='data-8baa278a-38c4-494a-a707-b0666b3c284d' class='xr-var-data-in' type='checkbox'><label for='data-8baa278a-38c4-494a-a707-b0666b3c284d' title='Show/Hide data repr'><svg class='icon xr-icon-database'><use xlink:href='#icon-database'></use></svg></label><div class='xr-var-attrs'><dl class='xr-attrs'><dt><span>long_name :</span></dt><dd>height_at_850_hPa</dd><dt><span>units :</span></dt><dd>m</dd><dt><span>fmissing_value :</span></dt><dd>1000000000000000.0</dd><dt><span>standard_name :</span></dt><dd>height_at_850_hPa</dd><dt><span>vmax :</span></dt><dd>1000000000000000.0</dd><dt><span>vmin :</span></dt><dd>-1000000000000000.0</dd><dt><span>valid_range :</span></dt><dd>[-1.e+15  1.e+15]</dd></dl></div><div class='xr-var-data'><pre>[4990464 values with dtype=float32]</pre></div></li><li class='xr-var-item'><div class='xr-var-name'><span>OMEGA500</span></div><div class='xr-var-dims'>(time, lat, lon)</div><div class='xr-var-dtype'>float32</div><div class='xr-var-preview xr-preview'>...</div><input id='attrs-8bce14a8-1e08-4c15-9ca1-fdfb5e6e0089' class='xr-var-attrs-in' type='checkbox' ><label for='attrs-8bce14a8-1e08-4c15-9ca1-fdfb5e6e0089' title='Show/Hide attributes'><svg class='icon xr-icon-file-text2'><use xlink:href='#icon-file-text2'></use></svg></label><input id='data-6b53a5f1-7e7a-43ce-87e2-bb16ab560920' class='xr-var-data-in' type='checkbox'><label for='data-6b53a5f1-7e7a-43ce-87e2-bb16ab560920' title='Show/Hide data repr'><svg class='icon xr-icon-database'><use xlink:href='#icon-database'></use></svg></label><div class='xr-var-attrs'><dl class='xr-attrs'><dt><span>long_name :</span></dt><dd>omega_at_500_hPa</dd><dt><span>units :</span></dt><dd>Pa s-1</dd><dt><span>fmissing_value :</span></dt><dd>1000000000000000.0</dd><dt><span>standard_name :</span></dt><dd>omega_at_500_hPa</dd><dt><span>vmax :</span></dt><dd>1000000000000000.0</dd><dt><span>vmin :</span></dt><dd>-1000000000000000.0</dd><dt><span>valid_range :</span></dt><dd>[-1.e+15  1.e+15]</dd></dl></div><div class='xr-var-data'><pre>[4990464 values with dtype=float32]</pre></div></li><li class='xr-var-item'><div class='xr-var-name'><span>PBLTOP</span></div><div class='xr-var-dims'>(time, lat, lon)</div><div class='xr-var-dtype'>float32</div><div class='xr-var-preview xr-preview'>...</div><input id='attrs-836d90dd-1ffb-45e4-9bdf-84e77af7531a' class='xr-var-attrs-in' type='checkbox' ><label for='attrs-836d90dd-1ffb-45e4-9bdf-84e77af7531a' title='Show/Hide attributes'><svg class='icon xr-icon-file-text2'><use xlink:href='#icon-file-text2'></use></svg></label><input id='data-4965574a-2d02-4b52-89c4-6c351d7ea742' class='xr-var-data-in' type='checkbox'><label for='data-4965574a-2d02-4b52-89c4-6c351d7ea742' title='Show/Hide data repr'><svg class='icon xr-icon-database'><use xlink:href='#icon-database'></use></svg></label><div class='xr-var-attrs'><dl class='xr-attrs'><dt><span>long_name :</span></dt><dd>pbltop_pressure</dd><dt><span>units :</span></dt><dd>Pa</dd><dt><span>fmissing_value :</span></dt><dd>1000000000000000.0</dd><dt><span>standard_name :</span></dt><dd>pbltop_pressure</dd><dt><span>vmax :</span></dt><dd>1000000000000000.0</dd><dt><span>vmin :</span></dt><dd>-1000000000000000.0</dd><dt><span>valid_range :</span></dt><dd>[-1.e+15  1.e+15]</dd></dl></div><div class='xr-var-data'><pre>[4990464 values with dtype=float32]</pre></div></li><li class='xr-var-item'><div class='xr-var-name'><span>PS</span></div><div class='xr-var-dims'>(time, lat, lon)</div><div class='xr-var-dtype'>float32</div><div class='xr-var-preview xr-preview'>...</div><input id='attrs-a7deffcf-8192-4543-8e79-b1e3c44401c1' class='xr-var-attrs-in' type='checkbox' ><label for='attrs-a7deffcf-8192-4543-8e79-b1e3c44401c1' title='Show/Hide attributes'><svg class='icon xr-icon-file-text2'><use xlink:href='#icon-file-text2'></use></svg></label><input id='data-5cee9495-0694-4d79-82b2-1330513fd766' class='xr-var-data-in' type='checkbox'><label for='data-5cee9495-0694-4d79-82b2-1330513fd766' title='Show/Hide data repr'><svg class='icon xr-icon-database'><use xlink:href='#icon-database'></use></svg></label><div class='xr-var-attrs'><dl class='xr-attrs'><dt><span>long_name :</span></dt><dd>surface_pressure</dd><dt><span>units :</span></dt><dd>Pa</dd><dt><span>fmissing_value :</span></dt><dd>1000000000000000.0</dd><dt><span>standard_name :</span></dt><dd>surface_pressure</dd><dt><span>vmax :</span></dt><dd>1000000000000000.0</dd><dt><span>vmin :</span></dt><dd>-1000000000000000.0</dd><dt><span>valid_range :</span></dt><dd>[-1.e+15  1.e+15]</dd></dl></div><div class='xr-var-data'><pre>[4990464 values with dtype=float32]</pre></div></li><li class='xr-var-item'><div class='xr-var-name'><span>Q250</span></div><div class='xr-var-dims'>(time, lat, lon)</div><div class='xr-var-dtype'>float32</div><div class='xr-var-preview xr-preview'>...</div><input id='attrs-55542143-9e8e-4f08-9571-7d52cbd535c6' class='xr-var-attrs-in' type='checkbox' ><label for='attrs-55542143-9e8e-4f08-9571-7d52cbd535c6' title='Show/Hide attributes'><svg class='icon xr-icon-file-text2'><use xlink:href='#icon-file-text2'></use></svg></label><input id='data-9fa934c4-7255-4871-ab27-a2e69fb4a01e' class='xr-var-data-in' type='checkbox'><label for='data-9fa934c4-7255-4871-ab27-a2e69fb4a01e' title='Show/Hide data repr'><svg class='icon xr-icon-database'><use xlink:href='#icon-database'></use></svg></label><div class='xr-var-attrs'><dl class='xr-attrs'><dt><span>long_name :</span></dt><dd>specific_humidity_at_250_hPa</dd><dt><span>units :</span></dt><dd>kg kg-1</dd><dt><span>fmissing_value :</span></dt><dd>1000000000000000.0</dd><dt><span>standard_name :</span></dt><dd>specific_humidity_at_250_hPa</dd><dt><span>vmax :</span></dt><dd>1000000000000000.0</dd><dt><span>vmin :</span></dt><dd>-1000000000000000.0</dd><dt><span>valid_range :</span></dt><dd>[-1.e+15  1.e+15]</dd></dl></div><div class='xr-var-data'><pre>[4990464 values with dtype=float32]</pre></div></li><li class='xr-var-item'><div class='xr-var-name'><span>Q500</span></div><div class='xr-var-dims'>(time, lat, lon)</div><div class='xr-var-dtype'>float32</div><div class='xr-var-preview xr-preview'>...</div><input id='attrs-db9c7cf6-0381-41ea-9c43-6f3cc9465ad1' class='xr-var-attrs-in' type='checkbox' ><label for='attrs-db9c7cf6-0381-41ea-9c43-6f3cc9465ad1' title='Show/Hide attributes'><svg class='icon xr-icon-file-text2'><use xlink:href='#icon-file-text2'></use></svg></label><input id='data-0c0b29d3-3f6f-4c1b-8db8-6d03f04367d6' class='xr-var-data-in' type='checkbox'><label for='data-0c0b29d3-3f6f-4c1b-8db8-6d03f04367d6' title='Show/Hide data repr'><svg class='icon xr-icon-database'><use xlink:href='#icon-database'></use></svg></label><div class='xr-var-attrs'><dl class='xr-attrs'><dt><span>long_name :</span></dt><dd>specific_humidity_at_500_hPa</dd><dt><span>units :</span></dt><dd>kg kg-1</dd><dt><span>fmissing_value :</span></dt><dd>1000000000000000.0</dd><dt><span>standard_name :</span></dt><dd>specific_humidity_at_500_hPa</dd><dt><span>vmax :</span></dt><dd>1000000000000000.0</dd><dt><span>vmin :</span></dt><dd>-1000000000000000.0</dd><dt><span>valid_range :</span></dt><dd>[-1.e+15  1.e+15]</dd></dl></div><div class='xr-var-data'><pre>[4990464 values with dtype=float32]</pre></div></li><li class='xr-var-item'><div class='xr-var-name'><span>Q850</span></div><div class='xr-var-dims'>(time, lat, lon)</div><div class='xr-var-dtype'>float32</div><div class='xr-var-preview xr-preview'>...</div><input id='attrs-cc5df784-bc73-4f38-8034-ccf2aad4cf36' class='xr-var-attrs-in' type='checkbox' ><label for='attrs-cc5df784-bc73-4f38-8034-ccf2aad4cf36' title='Show/Hide attributes'><svg class='icon xr-icon-file-text2'><use xlink:href='#icon-file-text2'></use></svg></label><input id='data-69d0f25b-e035-4e62-bd53-ad7a3ca854a0' class='xr-var-data-in' type='checkbox'><label for='data-69d0f25b-e035-4e62-bd53-ad7a3ca854a0' title='Show/Hide data repr'><svg class='icon xr-icon-database'><use xlink:href='#icon-database'></use></svg></label><div class='xr-var-attrs'><dl class='xr-attrs'><dt><span>long_name :</span></dt><dd>specific_humidity_at_850_hPa</dd><dt><span>units :</span></dt><dd>kg kg-1</dd><dt><span>fmissing_value :</span></dt><dd>1000000000000000.0</dd><dt><span>standard_name :</span></dt><dd>specific_humidity_at_850_hPa</dd><dt><span>vmax :</span></dt><dd>1000000000000000.0</dd><dt><span>vmin :</span></dt><dd>-1000000000000000.0</dd><dt><span>valid_range :</span></dt><dd>[-1.e+15  1.e+15]</dd></dl></div><div class='xr-var-data'><pre>[4990464 values with dtype=float32]</pre></div></li><li class='xr-var-item'><div class='xr-var-name'><span>QV10M</span></div><div class='xr-var-dims'>(time, lat, lon)</div><div class='xr-var-dtype'>float32</div><div class='xr-var-preview xr-preview'>...</div><input id='attrs-509e9e80-8458-4419-a33f-12934521c450' class='xr-var-attrs-in' type='checkbox' ><label for='attrs-509e9e80-8458-4419-a33f-12934521c450' title='Show/Hide attributes'><svg class='icon xr-icon-file-text2'><use xlink:href='#icon-file-text2'></use></svg></label><input id='data-ae345492-003e-4298-a2f7-f4e7a33d90dd' class='xr-var-data-in' type='checkbox'><label for='data-ae345492-003e-4298-a2f7-f4e7a33d90dd' title='Show/Hide data repr'><svg class='icon xr-icon-database'><use xlink:href='#icon-database'></use></svg></label><div class='xr-var-attrs'><dl class='xr-attrs'><dt><span>long_name :</span></dt><dd>10-meter_specific_humidity</dd><dt><span>units :</span></dt><dd>kg kg-1</dd><dt><span>fmissing_value :</span></dt><dd>1000000000000000.0</dd><dt><span>standard_name :</span></dt><dd>10-meter_specific_humidity</dd><dt><span>vmax :</span></dt><dd>1000000000000000.0</dd><dt><span>vmin :</span></dt><dd>-1000000000000000.0</dd><dt><span>valid_range :</span></dt><dd>[-1.e+15  1.e+15]</dd></dl></div><div class='xr-var-data'><pre>[4990464 values with dtype=float32]</pre></div></li><li class='xr-var-item'><div class='xr-var-name'><span>QV2M</span></div><div class='xr-var-dims'>(time, lat, lon)</div><div class='xr-var-dtype'>float32</div><div class='xr-var-preview xr-preview'>...</div><input id='attrs-1fd0ea19-4ca5-4335-815a-e0f7086bf259' class='xr-var-attrs-in' type='checkbox' ><label for='attrs-1fd0ea19-4ca5-4335-815a-e0f7086bf259' title='Show/Hide attributes'><svg class='icon xr-icon-file-text2'><use xlink:href='#icon-file-text2'></use></svg></label><input id='data-a32f486a-ccbe-46c4-a0cc-984ced478a9d' class='xr-var-data-in' type='checkbox'><label for='data-a32f486a-ccbe-46c4-a0cc-984ced478a9d' title='Show/Hide data repr'><svg class='icon xr-icon-database'><use xlink:href='#icon-database'></use></svg></label><div class='xr-var-attrs'><dl class='xr-attrs'><dt><span>long_name :</span></dt><dd>2-meter_specific_humidity</dd><dt><span>units :</span></dt><dd>kg kg-1</dd><dt><span>fmissing_value :</span></dt><dd>1000000000000000.0</dd><dt><span>standard_name :</span></dt><dd>2-meter_specific_humidity</dd><dt><span>vmax :</span></dt><dd>1000000000000000.0</dd><dt><span>vmin :</span></dt><dd>-1000000000000000.0</dd><dt><span>valid_range :</span></dt><dd>[-1.e+15  1.e+15]</dd></dl></div><div class='xr-var-data'><pre>[4990464 values with dtype=float32]</pre></div></li><li class='xr-var-item'><div class='xr-var-name'><span>SLP</span></div><div class='xr-var-dims'>(time, lat, lon)</div><div class='xr-var-dtype'>float32</div><div class='xr-var-preview xr-preview'>9.88e+04 9.88e+04 ... 1.008e+05</div><input id='attrs-51dcb71f-ceb0-4a4c-9b8c-57f25b68d336' class='xr-var-attrs-in' type='checkbox' ><label for='attrs-51dcb71f-ceb0-4a4c-9b8c-57f25b68d336' title='Show/Hide attributes'><svg class='icon xr-icon-file-text2'><use xlink:href='#icon-file-text2'></use></svg></label><input id='data-398c4e59-b5dd-433e-80d4-66d8afe5e5ec' class='xr-var-data-in' type='checkbox'><label for='data-398c4e59-b5dd-433e-80d4-66d8afe5e5ec' title='Show/Hide data repr'><svg class='icon xr-icon-database'><use xlink:href='#icon-database'></use></svg></label><div class='xr-var-attrs'><dl class='xr-attrs'><dt><span>long_name :</span></dt><dd>sea_level_pressure</dd><dt><span>units :</span></dt><dd>Pa</dd><dt><span>fmissing_value :</span></dt><dd>1000000000000000.0</dd><dt><span>standard_name :</span></dt><dd>sea_level_pressure</dd><dt><span>vmax :</span></dt><dd>1000000000000000.0</dd><dt><span>vmin :</span></dt><dd>-1000000000000000.0</dd><dt><span>valid_range :</span></dt><dd>[-1.e+15  1.e+15]</dd></dl></div><div class='xr-var-data'><pre>array([[[ 98799.96,  98799.96, ...,  98799.96,  98799.96],\n",
       "        [ 98756.96,  98756.96, ...,  98756.46,  98756.46],\n",
       "        ...,\n",
       "        [100883.46, 100883.96, ..., 100882.46, 100882.96],\n",
       "        [100919.21, 100919.21, ..., 100919.21, 100919.21]],\n",
       "\n",
       "       [[ 98827.78,  98827.78, ...,  98827.78,  98827.78],\n",
       "        [ 98783.78,  98783.78, ...,  98782.78,  98783.28],\n",
       "        ...,\n",
       "        [100870.78, 100871.03, ..., 100869.78, 100870.28],\n",
       "        [100905.53, 100905.53, ..., 100905.53, 100905.53]],\n",
       "\n",
       "       ...,\n",
       "\n",
       "       [[ 98386.84,  98386.84, ...,  98386.84,  98386.84],\n",
       "        [ 98329.34,  98329.34, ...,  98328.84,  98328.84],\n",
       "        ...,\n",
       "        [100804.34, 100804.84, ..., 100803.59, 100804.09],\n",
       "        [100835.59, 100835.59, ..., 100835.59, 100835.59]],\n",
       "\n",
       "       [[ 98391.32,  98391.32, ...,  98391.32,  98391.32],\n",
       "        [ 98322.32,  98322.82, ...,  98321.82,  98322.32],\n",
       "        ...,\n",
       "        [100815.82, 100816.32, ..., 100815.32, 100815.32],\n",
       "        [100848.32, 100848.32, ..., 100848.32, 100848.32]]], dtype=float32)</pre></div></li><li class='xr-var-item'><div class='xr-var-name'><span>T10M</span></div><div class='xr-var-dims'>(time, lat, lon)</div><div class='xr-var-dtype'>float32</div><div class='xr-var-preview xr-preview'>...</div><input id='attrs-4deabb7e-9fe1-4035-81ea-593a851afbcb' class='xr-var-attrs-in' type='checkbox' ><label for='attrs-4deabb7e-9fe1-4035-81ea-593a851afbcb' title='Show/Hide attributes'><svg class='icon xr-icon-file-text2'><use xlink:href='#icon-file-text2'></use></svg></label><input id='data-29a0fa0a-cc66-4645-b766-b4c5868afa6e' class='xr-var-data-in' type='checkbox'><label for='data-29a0fa0a-cc66-4645-b766-b4c5868afa6e' title='Show/Hide data repr'><svg class='icon xr-icon-database'><use xlink:href='#icon-database'></use></svg></label><div class='xr-var-attrs'><dl class='xr-attrs'><dt><span>long_name :</span></dt><dd>10-meter_air_temperature</dd><dt><span>units :</span></dt><dd>K</dd><dt><span>fmissing_value :</span></dt><dd>1000000000000000.0</dd><dt><span>standard_name :</span></dt><dd>10-meter_air_temperature</dd><dt><span>vmax :</span></dt><dd>1000000000000000.0</dd><dt><span>vmin :</span></dt><dd>-1000000000000000.0</dd><dt><span>valid_range :</span></dt><dd>[-1.e+15  1.e+15]</dd></dl></div><div class='xr-var-data'><pre>[4990464 values with dtype=float32]</pre></div></li><li class='xr-var-item'><div class='xr-var-name'><span>T250</span></div><div class='xr-var-dims'>(time, lat, lon)</div><div class='xr-var-dtype'>float32</div><div class='xr-var-preview xr-preview'>...</div><input id='attrs-f2c1f468-7ea1-4f9a-9ed6-5e67e8925b09' class='xr-var-attrs-in' type='checkbox' ><label for='attrs-f2c1f468-7ea1-4f9a-9ed6-5e67e8925b09' title='Show/Hide attributes'><svg class='icon xr-icon-file-text2'><use xlink:href='#icon-file-text2'></use></svg></label><input id='data-41f017d7-3aa2-444a-bf8c-7aed35b5e104' class='xr-var-data-in' type='checkbox'><label for='data-41f017d7-3aa2-444a-bf8c-7aed35b5e104' title='Show/Hide data repr'><svg class='icon xr-icon-database'><use xlink:href='#icon-database'></use></svg></label><div class='xr-var-attrs'><dl class='xr-attrs'><dt><span>long_name :</span></dt><dd>air_temperature_at_250_hPa</dd><dt><span>units :</span></dt><dd>K</dd><dt><span>fmissing_value :</span></dt><dd>1000000000000000.0</dd><dt><span>standard_name :</span></dt><dd>air_temperature_at_250_hPa</dd><dt><span>vmax :</span></dt><dd>1000000000000000.0</dd><dt><span>vmin :</span></dt><dd>-1000000000000000.0</dd><dt><span>valid_range :</span></dt><dd>[-1.e+15  1.e+15]</dd></dl></div><div class='xr-var-data'><pre>[4990464 values with dtype=float32]</pre></div></li><li class='xr-var-item'><div class='xr-var-name'><span>T2M</span></div><div class='xr-var-dims'>(time, lat, lon)</div><div class='xr-var-dtype'>float32</div><div class='xr-var-preview xr-preview'>...</div><input id='attrs-7f8fb51c-b4c2-4d92-9e96-c28dfbf9f1ef' class='xr-var-attrs-in' type='checkbox' ><label for='attrs-7f8fb51c-b4c2-4d92-9e96-c28dfbf9f1ef' title='Show/Hide attributes'><svg class='icon xr-icon-file-text2'><use xlink:href='#icon-file-text2'></use></svg></label><input id='data-21476261-d235-476c-858c-382899b88b74' class='xr-var-data-in' type='checkbox'><label for='data-21476261-d235-476c-858c-382899b88b74' title='Show/Hide data repr'><svg class='icon xr-icon-database'><use xlink:href='#icon-database'></use></svg></label><div class='xr-var-attrs'><dl class='xr-attrs'><dt><span>long_name :</span></dt><dd>2-meter_air_temperature</dd><dt><span>units :</span></dt><dd>K</dd><dt><span>fmissing_value :</span></dt><dd>1000000000000000.0</dd><dt><span>standard_name :</span></dt><dd>2-meter_air_temperature</dd><dt><span>vmax :</span></dt><dd>1000000000000000.0</dd><dt><span>vmin :</span></dt><dd>-1000000000000000.0</dd><dt><span>valid_range :</span></dt><dd>[-1.e+15  1.e+15]</dd></dl></div><div class='xr-var-data'><pre>[4990464 values with dtype=float32]</pre></div></li><li class='xr-var-item'><div class='xr-var-name'><span>T2MDEW</span></div><div class='xr-var-dims'>(time, lat, lon)</div><div class='xr-var-dtype'>float32</div><div class='xr-var-preview xr-preview'>...</div><input id='attrs-53c0abaf-ca7c-4378-b5c9-332b4af45b0a' class='xr-var-attrs-in' type='checkbox' ><label for='attrs-53c0abaf-ca7c-4378-b5c9-332b4af45b0a' title='Show/Hide attributes'><svg class='icon xr-icon-file-text2'><use xlink:href='#icon-file-text2'></use></svg></label><input id='data-a15cb4a4-c12a-4d82-b111-7829337a6adf' class='xr-var-data-in' type='checkbox'><label for='data-a15cb4a4-c12a-4d82-b111-7829337a6adf' title='Show/Hide data repr'><svg class='icon xr-icon-database'><use xlink:href='#icon-database'></use></svg></label><div class='xr-var-attrs'><dl class='xr-attrs'><dt><span>long_name :</span></dt><dd>dew_point_temperature_at_2_m</dd><dt><span>units :</span></dt><dd>K</dd><dt><span>fmissing_value :</span></dt><dd>1000000000000000.0</dd><dt><span>standard_name :</span></dt><dd>dew_point_temperature_at_2_m</dd><dt><span>vmax :</span></dt><dd>1000000000000000.0</dd><dt><span>vmin :</span></dt><dd>-1000000000000000.0</dd><dt><span>valid_range :</span></dt><dd>[-1.e+15  1.e+15]</dd></dl></div><div class='xr-var-data'><pre>[4990464 values with dtype=float32]</pre></div></li><li class='xr-var-item'><div class='xr-var-name'><span>T2MWET</span></div><div class='xr-var-dims'>(time, lat, lon)</div><div class='xr-var-dtype'>float32</div><div class='xr-var-preview xr-preview'>...</div><input id='attrs-f8aaf2a6-245b-43bb-85ed-efff04aa8b63' class='xr-var-attrs-in' type='checkbox' ><label for='attrs-f8aaf2a6-245b-43bb-85ed-efff04aa8b63' title='Show/Hide attributes'><svg class='icon xr-icon-file-text2'><use xlink:href='#icon-file-text2'></use></svg></label><input id='data-68cb713c-19de-490e-b91b-4f29a9ce9f7f' class='xr-var-data-in' type='checkbox'><label for='data-68cb713c-19de-490e-b91b-4f29a9ce9f7f' title='Show/Hide data repr'><svg class='icon xr-icon-database'><use xlink:href='#icon-database'></use></svg></label><div class='xr-var-attrs'><dl class='xr-attrs'><dt><span>long_name :</span></dt><dd>wet_bulb_temperature_at_2_m</dd><dt><span>units :</span></dt><dd>K</dd><dt><span>fmissing_value :</span></dt><dd>1000000000000000.0</dd><dt><span>standard_name :</span></dt><dd>wet_bulb_temperature_at_2_m</dd><dt><span>vmax :</span></dt><dd>1000000000000000.0</dd><dt><span>vmin :</span></dt><dd>-1000000000000000.0</dd><dt><span>valid_range :</span></dt><dd>[-1.e+15  1.e+15]</dd></dl></div><div class='xr-var-data'><pre>[4990464 values with dtype=float32]</pre></div></li><li class='xr-var-item'><div class='xr-var-name'><span>T500</span></div><div class='xr-var-dims'>(time, lat, lon)</div><div class='xr-var-dtype'>float32</div><div class='xr-var-preview xr-preview'>...</div><input id='attrs-da55e45f-81ee-4763-9a2b-26e18428749a' class='xr-var-attrs-in' type='checkbox' ><label for='attrs-da55e45f-81ee-4763-9a2b-26e18428749a' title='Show/Hide attributes'><svg class='icon xr-icon-file-text2'><use xlink:href='#icon-file-text2'></use></svg></label><input id='data-beca138b-d919-415b-8254-59a3bd3afca4' class='xr-var-data-in' type='checkbox'><label for='data-beca138b-d919-415b-8254-59a3bd3afca4' title='Show/Hide data repr'><svg class='icon xr-icon-database'><use xlink:href='#icon-database'></use></svg></label><div class='xr-var-attrs'><dl class='xr-attrs'><dt><span>long_name :</span></dt><dd>air_temperature_at_500_hPa</dd><dt><span>units :</span></dt><dd>K</dd><dt><span>fmissing_value :</span></dt><dd>1000000000000000.0</dd><dt><span>standard_name :</span></dt><dd>air_temperature_at_500_hPa</dd><dt><span>vmax :</span></dt><dd>1000000000000000.0</dd><dt><span>vmin :</span></dt><dd>-1000000000000000.0</dd><dt><span>valid_range :</span></dt><dd>[-1.e+15  1.e+15]</dd></dl></div><div class='xr-var-data'><pre>[4990464 values with dtype=float32]</pre></div></li><li class='xr-var-item'><div class='xr-var-name'><span>T850</span></div><div class='xr-var-dims'>(time, lat, lon)</div><div class='xr-var-dtype'>float32</div><div class='xr-var-preview xr-preview'>...</div><input id='attrs-a1f0a26f-36f6-4097-8f0d-d5b2cc448acd' class='xr-var-attrs-in' type='checkbox' ><label for='attrs-a1f0a26f-36f6-4097-8f0d-d5b2cc448acd' title='Show/Hide attributes'><svg class='icon xr-icon-file-text2'><use xlink:href='#icon-file-text2'></use></svg></label><input id='data-375195e2-9476-4be3-bbb1-6e29569d8a93' class='xr-var-data-in' type='checkbox'><label for='data-375195e2-9476-4be3-bbb1-6e29569d8a93' title='Show/Hide data repr'><svg class='icon xr-icon-database'><use xlink:href='#icon-database'></use></svg></label><div class='xr-var-attrs'><dl class='xr-attrs'><dt><span>long_name :</span></dt><dd>air_temperature_at_850_hPa</dd><dt><span>units :</span></dt><dd>K</dd><dt><span>fmissing_value :</span></dt><dd>1000000000000000.0</dd><dt><span>standard_name :</span></dt><dd>air_temperature_at_850_hPa</dd><dt><span>vmax :</span></dt><dd>1000000000000000.0</dd><dt><span>vmin :</span></dt><dd>-1000000000000000.0</dd><dt><span>valid_range :</span></dt><dd>[-1.e+15  1.e+15]</dd></dl></div><div class='xr-var-data'><pre>[4990464 values with dtype=float32]</pre></div></li><li class='xr-var-item'><div class='xr-var-name'><span>TO3</span></div><div class='xr-var-dims'>(time, lat, lon)</div><div class='xr-var-dtype'>float32</div><div class='xr-var-preview xr-preview'>...</div><input id='attrs-b17992e5-3da1-4ba8-9665-642e7191dedd' class='xr-var-attrs-in' type='checkbox' ><label for='attrs-b17992e5-3da1-4ba8-9665-642e7191dedd' title='Show/Hide attributes'><svg class='icon xr-icon-file-text2'><use xlink:href='#icon-file-text2'></use></svg></label><input id='data-d6243293-84a8-437d-bc92-1ddbd41092a8' class='xr-var-data-in' type='checkbox'><label for='data-d6243293-84a8-437d-bc92-1ddbd41092a8' title='Show/Hide data repr'><svg class='icon xr-icon-database'><use xlink:href='#icon-database'></use></svg></label><div class='xr-var-attrs'><dl class='xr-attrs'><dt><span>long_name :</span></dt><dd>total_column_ozone</dd><dt><span>units :</span></dt><dd>Dobsons</dd><dt><span>fmissing_value :</span></dt><dd>1000000000000000.0</dd><dt><span>standard_name :</span></dt><dd>total_column_ozone</dd><dt><span>vmax :</span></dt><dd>1000000000000000.0</dd><dt><span>vmin :</span></dt><dd>-1000000000000000.0</dd><dt><span>valid_range :</span></dt><dd>[-1.e+15  1.e+15]</dd></dl></div><div class='xr-var-data'><pre>[4990464 values with dtype=float32]</pre></div></li><li class='xr-var-item'><div class='xr-var-name'><span>TOX</span></div><div class='xr-var-dims'>(time, lat, lon)</div><div class='xr-var-dtype'>float32</div><div class='xr-var-preview xr-preview'>...</div><input id='attrs-c49cce46-e89f-405d-9086-6a47a5060a06' class='xr-var-attrs-in' type='checkbox' ><label for='attrs-c49cce46-e89f-405d-9086-6a47a5060a06' title='Show/Hide attributes'><svg class='icon xr-icon-file-text2'><use xlink:href='#icon-file-text2'></use></svg></label><input id='data-6f6b67cb-331a-4e6f-82e7-3cb0c3effdce' class='xr-var-data-in' type='checkbox'><label for='data-6f6b67cb-331a-4e6f-82e7-3cb0c3effdce' title='Show/Hide data repr'><svg class='icon xr-icon-database'><use xlink:href='#icon-database'></use></svg></label><div class='xr-var-attrs'><dl class='xr-attrs'><dt><span>long_name :</span></dt><dd>total_column_odd_oxygen</dd><dt><span>units :</span></dt><dd>kg m-2</dd><dt><span>fmissing_value :</span></dt><dd>1000000000000000.0</dd><dt><span>standard_name :</span></dt><dd>total_column_odd_oxygen</dd><dt><span>vmax :</span></dt><dd>1000000000000000.0</dd><dt><span>vmin :</span></dt><dd>-1000000000000000.0</dd><dt><span>valid_range :</span></dt><dd>[-1.e+15  1.e+15]</dd></dl></div><div class='xr-var-data'><pre>[4990464 values with dtype=float32]</pre></div></li><li class='xr-var-item'><div class='xr-var-name'><span>TQI</span></div><div class='xr-var-dims'>(time, lat, lon)</div><div class='xr-var-dtype'>float32</div><div class='xr-var-preview xr-preview'>...</div><input id='attrs-9531f695-d244-4faf-969f-06df1cafd9c0' class='xr-var-attrs-in' type='checkbox' ><label for='attrs-9531f695-d244-4faf-969f-06df1cafd9c0' title='Show/Hide attributes'><svg class='icon xr-icon-file-text2'><use xlink:href='#icon-file-text2'></use></svg></label><input id='data-65dfaf85-8f98-44b8-a0a8-c0c3f18344ce' class='xr-var-data-in' type='checkbox'><label for='data-65dfaf85-8f98-44b8-a0a8-c0c3f18344ce' title='Show/Hide data repr'><svg class='icon xr-icon-database'><use xlink:href='#icon-database'></use></svg></label><div class='xr-var-attrs'><dl class='xr-attrs'><dt><span>long_name :</span></dt><dd>total_precipitable_ice_water</dd><dt><span>units :</span></dt><dd>kg m-2</dd><dt><span>fmissing_value :</span></dt><dd>1000000000000000.0</dd><dt><span>standard_name :</span></dt><dd>total_precipitable_ice_water</dd><dt><span>vmax :</span></dt><dd>1000000000000000.0</dd><dt><span>vmin :</span></dt><dd>-1000000000000000.0</dd><dt><span>valid_range :</span></dt><dd>[-1.e+15  1.e+15]</dd></dl></div><div class='xr-var-data'><pre>[4990464 values with dtype=float32]</pre></div></li><li class='xr-var-item'><div class='xr-var-name'><span>TQL</span></div><div class='xr-var-dims'>(time, lat, lon)</div><div class='xr-var-dtype'>float32</div><div class='xr-var-preview xr-preview'>...</div><input id='attrs-ca91f890-eab6-4cf7-831f-cdb5fcbfa31a' class='xr-var-attrs-in' type='checkbox' ><label for='attrs-ca91f890-eab6-4cf7-831f-cdb5fcbfa31a' title='Show/Hide attributes'><svg class='icon xr-icon-file-text2'><use xlink:href='#icon-file-text2'></use></svg></label><input id='data-3d1e0b9e-97db-4827-903c-ab18266a2f15' class='xr-var-data-in' type='checkbox'><label for='data-3d1e0b9e-97db-4827-903c-ab18266a2f15' title='Show/Hide data repr'><svg class='icon xr-icon-database'><use xlink:href='#icon-database'></use></svg></label><div class='xr-var-attrs'><dl class='xr-attrs'><dt><span>long_name :</span></dt><dd>total_precipitable_liquid_water</dd><dt><span>units :</span></dt><dd>kg m-2</dd><dt><span>fmissing_value :</span></dt><dd>1000000000000000.0</dd><dt><span>standard_name :</span></dt><dd>total_precipitable_liquid_water</dd><dt><span>vmax :</span></dt><dd>1000000000000000.0</dd><dt><span>vmin :</span></dt><dd>-1000000000000000.0</dd><dt><span>valid_range :</span></dt><dd>[-1.e+15  1.e+15]</dd></dl></div><div class='xr-var-data'><pre>[4990464 values with dtype=float32]</pre></div></li><li class='xr-var-item'><div class='xr-var-name'><span>TQV</span></div><div class='xr-var-dims'>(time, lat, lon)</div><div class='xr-var-dtype'>float32</div><div class='xr-var-preview xr-preview'>...</div><input id='attrs-7b5ba8fb-c71b-4714-be35-cc593a2c353a' class='xr-var-attrs-in' type='checkbox' ><label for='attrs-7b5ba8fb-c71b-4714-be35-cc593a2c353a' title='Show/Hide attributes'><svg class='icon xr-icon-file-text2'><use xlink:href='#icon-file-text2'></use></svg></label><input id='data-f76692cd-371c-4bfd-a4e6-de641a6c75db' class='xr-var-data-in' type='checkbox'><label for='data-f76692cd-371c-4bfd-a4e6-de641a6c75db' title='Show/Hide data repr'><svg class='icon xr-icon-database'><use xlink:href='#icon-database'></use></svg></label><div class='xr-var-attrs'><dl class='xr-attrs'><dt><span>long_name :</span></dt><dd>total_precipitable_water_vapor</dd><dt><span>units :</span></dt><dd>kg m-2</dd><dt><span>fmissing_value :</span></dt><dd>1000000000000000.0</dd><dt><span>standard_name :</span></dt><dd>total_precipitable_water_vapor</dd><dt><span>vmax :</span></dt><dd>1000000000000000.0</dd><dt><span>vmin :</span></dt><dd>-1000000000000000.0</dd><dt><span>valid_range :</span></dt><dd>[-1.e+15  1.e+15]</dd></dl></div><div class='xr-var-data'><pre>[4990464 values with dtype=float32]</pre></div></li><li class='xr-var-item'><div class='xr-var-name'><span>TROPPB</span></div><div class='xr-var-dims'>(time, lat, lon)</div><div class='xr-var-dtype'>float32</div><div class='xr-var-preview xr-preview'>...</div><input id='attrs-e1acb911-fc89-428a-a3a0-dea28c8ba6d7' class='xr-var-attrs-in' type='checkbox' ><label for='attrs-e1acb911-fc89-428a-a3a0-dea28c8ba6d7' title='Show/Hide attributes'><svg class='icon xr-icon-file-text2'><use xlink:href='#icon-file-text2'></use></svg></label><input id='data-a2b14167-549e-4a96-a24f-1d506c7dffe7' class='xr-var-data-in' type='checkbox'><label for='data-a2b14167-549e-4a96-a24f-1d506c7dffe7' title='Show/Hide data repr'><svg class='icon xr-icon-database'><use xlink:href='#icon-database'></use></svg></label><div class='xr-var-attrs'><dl class='xr-attrs'><dt><span>long_name :</span></dt><dd>tropopause_pressure_based_on_blended_estimate</dd><dt><span>units :</span></dt><dd>Pa</dd><dt><span>fmissing_value :</span></dt><dd>1000000000000000.0</dd><dt><span>standard_name :</span></dt><dd>tropopause_pressure_based_on_blended_estimate</dd><dt><span>vmax :</span></dt><dd>1000000000000000.0</dd><dt><span>vmin :</span></dt><dd>-1000000000000000.0</dd><dt><span>valid_range :</span></dt><dd>[-1.e+15  1.e+15]</dd></dl></div><div class='xr-var-data'><pre>[4990464 values with dtype=float32]</pre></div></li><li class='xr-var-item'><div class='xr-var-name'><span>TROPPT</span></div><div class='xr-var-dims'>(time, lat, lon)</div><div class='xr-var-dtype'>float32</div><div class='xr-var-preview xr-preview'>...</div><input id='attrs-8e7223d4-5177-41c1-b4f1-bf10a227255c' class='xr-var-attrs-in' type='checkbox' ><label for='attrs-8e7223d4-5177-41c1-b4f1-bf10a227255c' title='Show/Hide attributes'><svg class='icon xr-icon-file-text2'><use xlink:href='#icon-file-text2'></use></svg></label><input id='data-25d0c091-da05-4a9d-b35f-27b6e84168d4' class='xr-var-data-in' type='checkbox'><label for='data-25d0c091-da05-4a9d-b35f-27b6e84168d4' title='Show/Hide data repr'><svg class='icon xr-icon-database'><use xlink:href='#icon-database'></use></svg></label><div class='xr-var-attrs'><dl class='xr-attrs'><dt><span>long_name :</span></dt><dd>tropopause_pressure_based_on_thermal_estimate</dd><dt><span>units :</span></dt><dd>Pa</dd><dt><span>fmissing_value :</span></dt><dd>1000000000000000.0</dd><dt><span>standard_name :</span></dt><dd>tropopause_pressure_based_on_thermal_estimate</dd><dt><span>vmax :</span></dt><dd>1000000000000000.0</dd><dt><span>vmin :</span></dt><dd>-1000000000000000.0</dd><dt><span>valid_range :</span></dt><dd>[-1.e+15  1.e+15]</dd></dl></div><div class='xr-var-data'><pre>[4990464 values with dtype=float32]</pre></div></li><li class='xr-var-item'><div class='xr-var-name'><span>TROPPV</span></div><div class='xr-var-dims'>(time, lat, lon)</div><div class='xr-var-dtype'>float32</div><div class='xr-var-preview xr-preview'>...</div><input id='attrs-54cfc42f-d2fc-484e-a660-b31126fa416c' class='xr-var-attrs-in' type='checkbox' ><label for='attrs-54cfc42f-d2fc-484e-a660-b31126fa416c' title='Show/Hide attributes'><svg class='icon xr-icon-file-text2'><use xlink:href='#icon-file-text2'></use></svg></label><input id='data-2fc61e83-01fa-41d5-bea1-c450626eadb6' class='xr-var-data-in' type='checkbox'><label for='data-2fc61e83-01fa-41d5-bea1-c450626eadb6' title='Show/Hide data repr'><svg class='icon xr-icon-database'><use xlink:href='#icon-database'></use></svg></label><div class='xr-var-attrs'><dl class='xr-attrs'><dt><span>long_name :</span></dt><dd>tropopause_pressure_based_on_EPV_estimate</dd><dt><span>units :</span></dt><dd>Pa</dd><dt><span>fmissing_value :</span></dt><dd>1000000000000000.0</dd><dt><span>standard_name :</span></dt><dd>tropopause_pressure_based_on_EPV_estimate</dd><dt><span>vmax :</span></dt><dd>1000000000000000.0</dd><dt><span>vmin :</span></dt><dd>-1000000000000000.0</dd><dt><span>valid_range :</span></dt><dd>[-1.e+15  1.e+15]</dd></dl></div><div class='xr-var-data'><pre>[4990464 values with dtype=float32]</pre></div></li><li class='xr-var-item'><div class='xr-var-name'><span>TROPQ</span></div><div class='xr-var-dims'>(time, lat, lon)</div><div class='xr-var-dtype'>float32</div><div class='xr-var-preview xr-preview'>...</div><input id='attrs-390111fa-e08e-4f31-ad4c-4b8d02add333' class='xr-var-attrs-in' type='checkbox' ><label for='attrs-390111fa-e08e-4f31-ad4c-4b8d02add333' title='Show/Hide attributes'><svg class='icon xr-icon-file-text2'><use xlink:href='#icon-file-text2'></use></svg></label><input id='data-c2f86d56-1ce7-4410-bbe4-ad0f06182ff2' class='xr-var-data-in' type='checkbox'><label for='data-c2f86d56-1ce7-4410-bbe4-ad0f06182ff2' title='Show/Hide data repr'><svg class='icon xr-icon-database'><use xlink:href='#icon-database'></use></svg></label><div class='xr-var-attrs'><dl class='xr-attrs'><dt><span>long_name :</span></dt><dd>tropopause_specific_humidity_using_blended_TROPP_estimate</dd><dt><span>units :</span></dt><dd>kg kg-1</dd><dt><span>fmissing_value :</span></dt><dd>1000000000000000.0</dd><dt><span>standard_name :</span></dt><dd>tropopause_specific_humidity_using_blended_TROPP_estimate</dd><dt><span>vmax :</span></dt><dd>1000000000000000.0</dd><dt><span>vmin :</span></dt><dd>-1000000000000000.0</dd><dt><span>valid_range :</span></dt><dd>[-1.e+15  1.e+15]</dd></dl></div><div class='xr-var-data'><pre>[4990464 values with dtype=float32]</pre></div></li><li class='xr-var-item'><div class='xr-var-name'><span>TROPT</span></div><div class='xr-var-dims'>(time, lat, lon)</div><div class='xr-var-dtype'>float32</div><div class='xr-var-preview xr-preview'>...</div><input id='attrs-a47d9b42-299b-4625-80df-c56153fbbc07' class='xr-var-attrs-in' type='checkbox' ><label for='attrs-a47d9b42-299b-4625-80df-c56153fbbc07' title='Show/Hide attributes'><svg class='icon xr-icon-file-text2'><use xlink:href='#icon-file-text2'></use></svg></label><input id='data-b0fe6a9a-76d3-4748-a62c-2bf8889f1068' class='xr-var-data-in' type='checkbox'><label for='data-b0fe6a9a-76d3-4748-a62c-2bf8889f1068' title='Show/Hide data repr'><svg class='icon xr-icon-database'><use xlink:href='#icon-database'></use></svg></label><div class='xr-var-attrs'><dl class='xr-attrs'><dt><span>long_name :</span></dt><dd>tropopause_temperature_using_blended_TROPP_estimate</dd><dt><span>units :</span></dt><dd>K</dd><dt><span>fmissing_value :</span></dt><dd>1000000000000000.0</dd><dt><span>standard_name :</span></dt><dd>tropopause_temperature_using_blended_TROPP_estimate</dd><dt><span>vmax :</span></dt><dd>1000000000000000.0</dd><dt><span>vmin :</span></dt><dd>-1000000000000000.0</dd><dt><span>valid_range :</span></dt><dd>[-1.e+15  1.e+15]</dd></dl></div><div class='xr-var-data'><pre>[4990464 values with dtype=float32]</pre></div></li><li class='xr-var-item'><div class='xr-var-name'><span>TS</span></div><div class='xr-var-dims'>(time, lat, lon)</div><div class='xr-var-dtype'>float32</div><div class='xr-var-preview xr-preview'>...</div><input id='attrs-60c2edd3-52af-4f0e-a938-e66f7d6bba40' class='xr-var-attrs-in' type='checkbox' ><label for='attrs-60c2edd3-52af-4f0e-a938-e66f7d6bba40' title='Show/Hide attributes'><svg class='icon xr-icon-file-text2'><use xlink:href='#icon-file-text2'></use></svg></label><input id='data-5c94c971-6130-483f-9cac-9a7d25d11f17' class='xr-var-data-in' type='checkbox'><label for='data-5c94c971-6130-483f-9cac-9a7d25d11f17' title='Show/Hide data repr'><svg class='icon xr-icon-database'><use xlink:href='#icon-database'></use></svg></label><div class='xr-var-attrs'><dl class='xr-attrs'><dt><span>long_name :</span></dt><dd>surface_skin_temperature</dd><dt><span>units :</span></dt><dd>K</dd><dt><span>fmissing_value :</span></dt><dd>1000000000000000.0</dd><dt><span>standard_name :</span></dt><dd>surface_skin_temperature</dd><dt><span>vmax :</span></dt><dd>1000000000000000.0</dd><dt><span>vmin :</span></dt><dd>-1000000000000000.0</dd><dt><span>valid_range :</span></dt><dd>[-1.e+15  1.e+15]</dd></dl></div><div class='xr-var-data'><pre>[4990464 values with dtype=float32]</pre></div></li><li class='xr-var-item'><div class='xr-var-name'><span>U10M</span></div><div class='xr-var-dims'>(time, lat, lon)</div><div class='xr-var-dtype'>float32</div><div class='xr-var-preview xr-preview'>...</div><input id='attrs-ab004638-9809-44c6-9450-0f3cf61faf0c' class='xr-var-attrs-in' type='checkbox' ><label for='attrs-ab004638-9809-44c6-9450-0f3cf61faf0c' title='Show/Hide attributes'><svg class='icon xr-icon-file-text2'><use xlink:href='#icon-file-text2'></use></svg></label><input id='data-409ac440-4850-4888-b4d7-c0453e565f22' class='xr-var-data-in' type='checkbox'><label for='data-409ac440-4850-4888-b4d7-c0453e565f22' title='Show/Hide data repr'><svg class='icon xr-icon-database'><use xlink:href='#icon-database'></use></svg></label><div class='xr-var-attrs'><dl class='xr-attrs'><dt><span>long_name :</span></dt><dd>10-meter_eastward_wind</dd><dt><span>units :</span></dt><dd>m s-1</dd><dt><span>fmissing_value :</span></dt><dd>1000000000000000.0</dd><dt><span>standard_name :</span></dt><dd>10-meter_eastward_wind</dd><dt><span>vmax :</span></dt><dd>1000000000000000.0</dd><dt><span>vmin :</span></dt><dd>-1000000000000000.0</dd><dt><span>valid_range :</span></dt><dd>[-1.e+15  1.e+15]</dd></dl></div><div class='xr-var-data'><pre>[4990464 values with dtype=float32]</pre></div></li><li class='xr-var-item'><div class='xr-var-name'><span>U250</span></div><div class='xr-var-dims'>(time, lat, lon)</div><div class='xr-var-dtype'>float32</div><div class='xr-var-preview xr-preview'>...</div><input id='attrs-89c64a78-0ac7-4feb-a2ad-1a9c11048381' class='xr-var-attrs-in' type='checkbox' ><label for='attrs-89c64a78-0ac7-4feb-a2ad-1a9c11048381' title='Show/Hide attributes'><svg class='icon xr-icon-file-text2'><use xlink:href='#icon-file-text2'></use></svg></label><input id='data-3bbf14fe-1b6b-4afd-8fa7-b8cf12b43552' class='xr-var-data-in' type='checkbox'><label for='data-3bbf14fe-1b6b-4afd-8fa7-b8cf12b43552' title='Show/Hide data repr'><svg class='icon xr-icon-database'><use xlink:href='#icon-database'></use></svg></label><div class='xr-var-attrs'><dl class='xr-attrs'><dt><span>long_name :</span></dt><dd>eastward_wind_at_250_hPa</dd><dt><span>units :</span></dt><dd>m s-1</dd><dt><span>fmissing_value :</span></dt><dd>1000000000000000.0</dd><dt><span>standard_name :</span></dt><dd>eastward_wind_at_250_hPa</dd><dt><span>vmax :</span></dt><dd>1000000000000000.0</dd><dt><span>vmin :</span></dt><dd>-1000000000000000.0</dd><dt><span>valid_range :</span></dt><dd>[-1.e+15  1.e+15]</dd></dl></div><div class='xr-var-data'><pre>[4990464 values with dtype=float32]</pre></div></li><li class='xr-var-item'><div class='xr-var-name'><span>U2M</span></div><div class='xr-var-dims'>(time, lat, lon)</div><div class='xr-var-dtype'>float32</div><div class='xr-var-preview xr-preview'>...</div><input id='attrs-7a990894-2a41-40f4-8890-e79384466d04' class='xr-var-attrs-in' type='checkbox' ><label for='attrs-7a990894-2a41-40f4-8890-e79384466d04' title='Show/Hide attributes'><svg class='icon xr-icon-file-text2'><use xlink:href='#icon-file-text2'></use></svg></label><input id='data-4fbe99aa-4b62-41b4-856a-a0bad2817e88' class='xr-var-data-in' type='checkbox'><label for='data-4fbe99aa-4b62-41b4-856a-a0bad2817e88' title='Show/Hide data repr'><svg class='icon xr-icon-database'><use xlink:href='#icon-database'></use></svg></label><div class='xr-var-attrs'><dl class='xr-attrs'><dt><span>long_name :</span></dt><dd>2-meter_eastward_wind</dd><dt><span>units :</span></dt><dd>m s-1</dd><dt><span>fmissing_value :</span></dt><dd>1000000000000000.0</dd><dt><span>standard_name :</span></dt><dd>2-meter_eastward_wind</dd><dt><span>vmax :</span></dt><dd>1000000000000000.0</dd><dt><span>vmin :</span></dt><dd>-1000000000000000.0</dd><dt><span>valid_range :</span></dt><dd>[-1.e+15  1.e+15]</dd></dl></div><div class='xr-var-data'><pre>[4990464 values with dtype=float32]</pre></div></li><li class='xr-var-item'><div class='xr-var-name'><span>U500</span></div><div class='xr-var-dims'>(time, lat, lon)</div><div class='xr-var-dtype'>float32</div><div class='xr-var-preview xr-preview'>...</div><input id='attrs-b7f2e1a0-bf44-468a-96f7-7e8b3eadc1ee' class='xr-var-attrs-in' type='checkbox' ><label for='attrs-b7f2e1a0-bf44-468a-96f7-7e8b3eadc1ee' title='Show/Hide attributes'><svg class='icon xr-icon-file-text2'><use xlink:href='#icon-file-text2'></use></svg></label><input id='data-62e22068-d350-4656-bf72-748ea6e00f27' class='xr-var-data-in' type='checkbox'><label for='data-62e22068-d350-4656-bf72-748ea6e00f27' title='Show/Hide data repr'><svg class='icon xr-icon-database'><use xlink:href='#icon-database'></use></svg></label><div class='xr-var-attrs'><dl class='xr-attrs'><dt><span>long_name :</span></dt><dd>eastward_wind_at_500_hPa</dd><dt><span>units :</span></dt><dd>m s-1</dd><dt><span>fmissing_value :</span></dt><dd>1000000000000000.0</dd><dt><span>standard_name :</span></dt><dd>eastward_wind_at_500_hPa</dd><dt><span>vmax :</span></dt><dd>1000000000000000.0</dd><dt><span>vmin :</span></dt><dd>-1000000000000000.0</dd><dt><span>valid_range :</span></dt><dd>[-1.e+15  1.e+15]</dd></dl></div><div class='xr-var-data'><pre>[4990464 values with dtype=float32]</pre></div></li><li class='xr-var-item'><div class='xr-var-name'><span>U50M</span></div><div class='xr-var-dims'>(time, lat, lon)</div><div class='xr-var-dtype'>float32</div><div class='xr-var-preview xr-preview'>...</div><input id='attrs-9331d056-480c-49f5-9e67-848e50f6e05f' class='xr-var-attrs-in' type='checkbox' ><label for='attrs-9331d056-480c-49f5-9e67-848e50f6e05f' title='Show/Hide attributes'><svg class='icon xr-icon-file-text2'><use xlink:href='#icon-file-text2'></use></svg></label><input id='data-24769c85-595a-4406-aa7b-5e203dfce7a4' class='xr-var-data-in' type='checkbox'><label for='data-24769c85-595a-4406-aa7b-5e203dfce7a4' title='Show/Hide data repr'><svg class='icon xr-icon-database'><use xlink:href='#icon-database'></use></svg></label><div class='xr-var-attrs'><dl class='xr-attrs'><dt><span>long_name :</span></dt><dd>eastward_wind_at_50_meters</dd><dt><span>units :</span></dt><dd>m s-1</dd><dt><span>fmissing_value :</span></dt><dd>1000000000000000.0</dd><dt><span>standard_name :</span></dt><dd>eastward_wind_at_50_meters</dd><dt><span>vmax :</span></dt><dd>1000000000000000.0</dd><dt><span>vmin :</span></dt><dd>-1000000000000000.0</dd><dt><span>valid_range :</span></dt><dd>[-1.e+15  1.e+15]</dd></dl></div><div class='xr-var-data'><pre>[4990464 values with dtype=float32]</pre></div></li><li class='xr-var-item'><div class='xr-var-name'><span>U850</span></div><div class='xr-var-dims'>(time, lat, lon)</div><div class='xr-var-dtype'>float32</div><div class='xr-var-preview xr-preview'>...</div><input id='attrs-7810a589-789d-4e2e-a2b1-b249c0d8edd1' class='xr-var-attrs-in' type='checkbox' ><label for='attrs-7810a589-789d-4e2e-a2b1-b249c0d8edd1' title='Show/Hide attributes'><svg class='icon xr-icon-file-text2'><use xlink:href='#icon-file-text2'></use></svg></label><input id='data-33e269fc-f402-4231-a660-53023f91562b' class='xr-var-data-in' type='checkbox'><label for='data-33e269fc-f402-4231-a660-53023f91562b' title='Show/Hide data repr'><svg class='icon xr-icon-database'><use xlink:href='#icon-database'></use></svg></label><div class='xr-var-attrs'><dl class='xr-attrs'><dt><span>long_name :</span></dt><dd>eastward_wind_at_850_hPa</dd><dt><span>units :</span></dt><dd>m s-1</dd><dt><span>fmissing_value :</span></dt><dd>1000000000000000.0</dd><dt><span>standard_name :</span></dt><dd>eastward_wind_at_850_hPa</dd><dt><span>vmax :</span></dt><dd>1000000000000000.0</dd><dt><span>vmin :</span></dt><dd>-1000000000000000.0</dd><dt><span>valid_range :</span></dt><dd>[-1.e+15  1.e+15]</dd></dl></div><div class='xr-var-data'><pre>[4990464 values with dtype=float32]</pre></div></li><li class='xr-var-item'><div class='xr-var-name'><span>V10M</span></div><div class='xr-var-dims'>(time, lat, lon)</div><div class='xr-var-dtype'>float32</div><div class='xr-var-preview xr-preview'>...</div><input id='attrs-15389da5-8a9a-45fb-bcde-5bc2f6728abd' class='xr-var-attrs-in' type='checkbox' ><label for='attrs-15389da5-8a9a-45fb-bcde-5bc2f6728abd' title='Show/Hide attributes'><svg class='icon xr-icon-file-text2'><use xlink:href='#icon-file-text2'></use></svg></label><input id='data-7e9f8983-143f-4735-ab80-e2b8484d99ec' class='xr-var-data-in' type='checkbox'><label for='data-7e9f8983-143f-4735-ab80-e2b8484d99ec' title='Show/Hide data repr'><svg class='icon xr-icon-database'><use xlink:href='#icon-database'></use></svg></label><div class='xr-var-attrs'><dl class='xr-attrs'><dt><span>long_name :</span></dt><dd>10-meter_northward_wind</dd><dt><span>units :</span></dt><dd>m s-1</dd><dt><span>fmissing_value :</span></dt><dd>1000000000000000.0</dd><dt><span>standard_name :</span></dt><dd>10-meter_northward_wind</dd><dt><span>vmax :</span></dt><dd>1000000000000000.0</dd><dt><span>vmin :</span></dt><dd>-1000000000000000.0</dd><dt><span>valid_range :</span></dt><dd>[-1.e+15  1.e+15]</dd></dl></div><div class='xr-var-data'><pre>[4990464 values with dtype=float32]</pre></div></li><li class='xr-var-item'><div class='xr-var-name'><span>V250</span></div><div class='xr-var-dims'>(time, lat, lon)</div><div class='xr-var-dtype'>float32</div><div class='xr-var-preview xr-preview'>...</div><input id='attrs-7582dcc8-5d00-4745-8026-e3363559040a' class='xr-var-attrs-in' type='checkbox' ><label for='attrs-7582dcc8-5d00-4745-8026-e3363559040a' title='Show/Hide attributes'><svg class='icon xr-icon-file-text2'><use xlink:href='#icon-file-text2'></use></svg></label><input id='data-a3ebe776-1b8f-4431-97d0-5852f16cdb2e' class='xr-var-data-in' type='checkbox'><label for='data-a3ebe776-1b8f-4431-97d0-5852f16cdb2e' title='Show/Hide data repr'><svg class='icon xr-icon-database'><use xlink:href='#icon-database'></use></svg></label><div class='xr-var-attrs'><dl class='xr-attrs'><dt><span>long_name :</span></dt><dd>northward_wind_at_250_hPa</dd><dt><span>units :</span></dt><dd>m s-1</dd><dt><span>fmissing_value :</span></dt><dd>1000000000000000.0</dd><dt><span>standard_name :</span></dt><dd>northward_wind_at_250_hPa</dd><dt><span>vmax :</span></dt><dd>1000000000000000.0</dd><dt><span>vmin :</span></dt><dd>-1000000000000000.0</dd><dt><span>valid_range :</span></dt><dd>[-1.e+15  1.e+15]</dd></dl></div><div class='xr-var-data'><pre>[4990464 values with dtype=float32]</pre></div></li><li class='xr-var-item'><div class='xr-var-name'><span>V2M</span></div><div class='xr-var-dims'>(time, lat, lon)</div><div class='xr-var-dtype'>float32</div><div class='xr-var-preview xr-preview'>...</div><input id='attrs-7d78b154-724a-4df5-81a1-b6c8eaef13c6' class='xr-var-attrs-in' type='checkbox' ><label for='attrs-7d78b154-724a-4df5-81a1-b6c8eaef13c6' title='Show/Hide attributes'><svg class='icon xr-icon-file-text2'><use xlink:href='#icon-file-text2'></use></svg></label><input id='data-379bf6ad-d062-4b62-8865-d68c026a642f' class='xr-var-data-in' type='checkbox'><label for='data-379bf6ad-d062-4b62-8865-d68c026a642f' title='Show/Hide data repr'><svg class='icon xr-icon-database'><use xlink:href='#icon-database'></use></svg></label><div class='xr-var-attrs'><dl class='xr-attrs'><dt><span>long_name :</span></dt><dd>2-meter_northward_wind</dd><dt><span>units :</span></dt><dd>m s-1</dd><dt><span>fmissing_value :</span></dt><dd>1000000000000000.0</dd><dt><span>standard_name :</span></dt><dd>2-meter_northward_wind</dd><dt><span>vmax :</span></dt><dd>1000000000000000.0</dd><dt><span>vmin :</span></dt><dd>-1000000000000000.0</dd><dt><span>valid_range :</span></dt><dd>[-1.e+15  1.e+15]</dd></dl></div><div class='xr-var-data'><pre>[4990464 values with dtype=float32]</pre></div></li><li class='xr-var-item'><div class='xr-var-name'><span>V500</span></div><div class='xr-var-dims'>(time, lat, lon)</div><div class='xr-var-dtype'>float32</div><div class='xr-var-preview xr-preview'>...</div><input id='attrs-db2fd98f-29e4-47a4-9db8-5de5b2921458' class='xr-var-attrs-in' type='checkbox' ><label for='attrs-db2fd98f-29e4-47a4-9db8-5de5b2921458' title='Show/Hide attributes'><svg class='icon xr-icon-file-text2'><use xlink:href='#icon-file-text2'></use></svg></label><input id='data-4e03e56c-adca-46f0-b335-cc977a6dfa09' class='xr-var-data-in' type='checkbox'><label for='data-4e03e56c-adca-46f0-b335-cc977a6dfa09' title='Show/Hide data repr'><svg class='icon xr-icon-database'><use xlink:href='#icon-database'></use></svg></label><div class='xr-var-attrs'><dl class='xr-attrs'><dt><span>long_name :</span></dt><dd>northward_wind_at_500_hPa</dd><dt><span>units :</span></dt><dd>m s-1</dd><dt><span>fmissing_value :</span></dt><dd>1000000000000000.0</dd><dt><span>standard_name :</span></dt><dd>northward_wind_at_500_hPa</dd><dt><span>vmax :</span></dt><dd>1000000000000000.0</dd><dt><span>vmin :</span></dt><dd>-1000000000000000.0</dd><dt><span>valid_range :</span></dt><dd>[-1.e+15  1.e+15]</dd></dl></div><div class='xr-var-data'><pre>[4990464 values with dtype=float32]</pre></div></li><li class='xr-var-item'><div class='xr-var-name'><span>V50M</span></div><div class='xr-var-dims'>(time, lat, lon)</div><div class='xr-var-dtype'>float32</div><div class='xr-var-preview xr-preview'>...</div><input id='attrs-8e454019-7e82-4fa9-a92b-fe74e1302734' class='xr-var-attrs-in' type='checkbox' ><label for='attrs-8e454019-7e82-4fa9-a92b-fe74e1302734' title='Show/Hide attributes'><svg class='icon xr-icon-file-text2'><use xlink:href='#icon-file-text2'></use></svg></label><input id='data-d708e9da-dc6e-4227-b579-2e820d27e89f' class='xr-var-data-in' type='checkbox'><label for='data-d708e9da-dc6e-4227-b579-2e820d27e89f' title='Show/Hide data repr'><svg class='icon xr-icon-database'><use xlink:href='#icon-database'></use></svg></label><div class='xr-var-attrs'><dl class='xr-attrs'><dt><span>long_name :</span></dt><dd>northward_wind_at_50_meters</dd><dt><span>units :</span></dt><dd>m s-1</dd><dt><span>fmissing_value :</span></dt><dd>1000000000000000.0</dd><dt><span>standard_name :</span></dt><dd>northward_wind_at_50_meters</dd><dt><span>vmax :</span></dt><dd>1000000000000000.0</dd><dt><span>vmin :</span></dt><dd>-1000000000000000.0</dd><dt><span>valid_range :</span></dt><dd>[-1.e+15  1.e+15]</dd></dl></div><div class='xr-var-data'><pre>[4990464 values with dtype=float32]</pre></div></li><li class='xr-var-item'><div class='xr-var-name'><span>V850</span></div><div class='xr-var-dims'>(time, lat, lon)</div><div class='xr-var-dtype'>float32</div><div class='xr-var-preview xr-preview'>...</div><input id='attrs-988ac3bf-af8a-4f94-a0db-b9ee3991d545' class='xr-var-attrs-in' type='checkbox' ><label for='attrs-988ac3bf-af8a-4f94-a0db-b9ee3991d545' title='Show/Hide attributes'><svg class='icon xr-icon-file-text2'><use xlink:href='#icon-file-text2'></use></svg></label><input id='data-95402f2f-2f70-4f0f-ab99-331129b6b6cd' class='xr-var-data-in' type='checkbox'><label for='data-95402f2f-2f70-4f0f-ab99-331129b6b6cd' title='Show/Hide data repr'><svg class='icon xr-icon-database'><use xlink:href='#icon-database'></use></svg></label><div class='xr-var-attrs'><dl class='xr-attrs'><dt><span>long_name :</span></dt><dd>northward_wind_at_850_hPa</dd><dt><span>units :</span></dt><dd>m s-1</dd><dt><span>fmissing_value :</span></dt><dd>1000000000000000.0</dd><dt><span>standard_name :</span></dt><dd>northward_wind_at_850_hPa</dd><dt><span>vmax :</span></dt><dd>1000000000000000.0</dd><dt><span>vmin :</span></dt><dd>-1000000000000000.0</dd><dt><span>valid_range :</span></dt><dd>[-1.e+15  1.e+15]</dd></dl></div><div class='xr-var-data'><pre>[4990464 values with dtype=float32]</pre></div></li><li class='xr-var-item'><div class='xr-var-name'><span>ZLCL</span></div><div class='xr-var-dims'>(time, lat, lon)</div><div class='xr-var-dtype'>float32</div><div class='xr-var-preview xr-preview'>...</div><input id='attrs-87ac7037-f80d-49f8-80e9-f2f04b5aeee8' class='xr-var-attrs-in' type='checkbox' ><label for='attrs-87ac7037-f80d-49f8-80e9-f2f04b5aeee8' title='Show/Hide attributes'><svg class='icon xr-icon-file-text2'><use xlink:href='#icon-file-text2'></use></svg></label><input id='data-33a494a7-c3cc-42dc-a9d5-bb35d105664c' class='xr-var-data-in' type='checkbox'><label for='data-33a494a7-c3cc-42dc-a9d5-bb35d105664c' title='Show/Hide data repr'><svg class='icon xr-icon-database'><use xlink:href='#icon-database'></use></svg></label><div class='xr-var-attrs'><dl class='xr-attrs'><dt><span>long_name :</span></dt><dd>lifting_condensation_level</dd><dt><span>units :</span></dt><dd>m</dd><dt><span>fmissing_value :</span></dt><dd>1000000000000000.0</dd><dt><span>standard_name :</span></dt><dd>lifting_condensation_level</dd><dt><span>vmax :</span></dt><dd>1000000000000000.0</dd><dt><span>vmin :</span></dt><dd>-1000000000000000.0</dd><dt><span>valid_range :</span></dt><dd>[-1.e+15  1.e+15]</dd></dl></div><div class='xr-var-data'><pre>[4990464 values with dtype=float32]</pre></div></li></ul></div></li><li class='xr-section-item'><input id='section-9aa8a0bd-b59f-41fb-9696-5d5b7c5ffdfe' class='xr-section-summary-in' type='checkbox'  ><label for='section-9aa8a0bd-b59f-41fb-9696-5d5b7c5ffdfe' class='xr-section-summary' >Indexes: <span>(3)</span></label><div class='xr-section-inline-details'></div><div class='xr-section-details'><ul class='xr-var-list'><li class='xr-var-item'><div class='xr-index-name'><div>lon</div></div><div class='xr-index-preview'>PandasIndex</div><div></div><input id='index-a3b2df85-f74e-4e87-a165-2cb4d5aca7bb' class='xr-index-data-in' type='checkbox'/><label for='index-a3b2df85-f74e-4e87-a165-2cb4d5aca7bb' title='Show/Hide index repr'><svg class='icon xr-icon-database'><use xlink:href='#icon-database'></use></svg></label><div class='xr-index-data'><pre>PandasIndex(Float64Index([  -180.0, -179.375,  -178.75, -178.125,   -177.5, -176.875,\n",
       "               -176.25, -175.625,   -175.0, -174.375,\n",
       "              ...\n",
       "                173.75,  174.375,    175.0,  175.625,   176.25,  176.875,\n",
       "                 177.5,  178.125,   178.75,  179.375],\n",
       "             dtype=&#x27;float64&#x27;, name=&#x27;lon&#x27;, length=576))</pre></div></li><li class='xr-var-item'><div class='xr-index-name'><div>lat</div></div><div class='xr-index-preview'>PandasIndex</div><div></div><input id='index-1e8fb97b-eba7-4258-8a8e-22f22557685f' class='xr-index-data-in' type='checkbox'/><label for='index-1e8fb97b-eba7-4258-8a8e-22f22557685f' title='Show/Hide index repr'><svg class='icon xr-icon-database'><use xlink:href='#icon-database'></use></svg></label><div class='xr-index-data'><pre>PandasIndex(Float64Index([-90.0, -89.5, -89.0, -88.5, -88.0, -87.5, -87.0, -86.5, -86.0,\n",
       "              -85.5,\n",
       "              ...\n",
       "               85.5,  86.0,  86.5,  87.0,  87.5,  88.0,  88.5,  89.0,  89.5,\n",
       "               90.0],\n",
       "             dtype=&#x27;float64&#x27;, name=&#x27;lat&#x27;, length=361))</pre></div></li><li class='xr-var-item'><div class='xr-index-name'><div>time</div></div><div class='xr-index-preview'>PandasIndex</div><div></div><input id='index-c176dcad-6bc7-4a29-bdf8-e059070b66ab' class='xr-index-data-in' type='checkbox'/><label for='index-c176dcad-6bc7-4a29-bdf8-e059070b66ab' title='Show/Hide index repr'><svg class='icon xr-icon-database'><use xlink:href='#icon-database'></use></svg></label><div class='xr-index-data'><pre>PandasIndex(DatetimeIndex([&#x27;2019-03-13 00:30:00&#x27;, &#x27;2019-03-13 01:30:00&#x27;,\n",
       "               &#x27;2019-03-13 02:30:00&#x27;, &#x27;2019-03-13 03:30:00&#x27;,\n",
       "               &#x27;2019-03-13 04:30:00&#x27;, &#x27;2019-03-13 05:30:00&#x27;,\n",
       "               &#x27;2019-03-13 06:30:00&#x27;, &#x27;2019-03-13 07:30:00&#x27;,\n",
       "               &#x27;2019-03-13 08:30:00&#x27;, &#x27;2019-03-13 09:30:00&#x27;,\n",
       "               &#x27;2019-03-13 10:30:00&#x27;, &#x27;2019-03-13 11:30:00&#x27;,\n",
       "               &#x27;2019-03-13 12:30:00&#x27;, &#x27;2019-03-13 13:30:00&#x27;,\n",
       "               &#x27;2019-03-13 14:30:00&#x27;, &#x27;2019-03-13 15:30:00&#x27;,\n",
       "               &#x27;2019-03-13 16:30:00&#x27;, &#x27;2019-03-13 17:30:00&#x27;,\n",
       "               &#x27;2019-03-13 18:30:00&#x27;, &#x27;2019-03-13 19:30:00&#x27;,\n",
       "               &#x27;2019-03-13 20:30:00&#x27;, &#x27;2019-03-13 21:30:00&#x27;,\n",
       "               &#x27;2019-03-13 22:30:00&#x27;, &#x27;2019-03-13 23:30:00&#x27;],\n",
       "              dtype=&#x27;datetime64[ns]&#x27;, name=&#x27;time&#x27;, freq=None))</pre></div></li></ul></div></li><li class='xr-section-item'><input id='section-47e3a683-f1b9-4198-b361-8d19eab3c5c2' class='xr-section-summary-in' type='checkbox'  ><label for='section-47e3a683-f1b9-4198-b361-8d19eab3c5c2' class='xr-section-summary' >Attributes: <span>(30)</span></label><div class='xr-section-inline-details'></div><div class='xr-section-details'><dl class='xr-attrs'><dt><span>History :</span></dt><dd>Original file generated: Sat Mar 23 22:40:03 2019 GMT</dd><dt><span>Comment :</span></dt><dd>GMAO filename: d5124_m2_jan10.tavg1_2d_slv_Nx.20190313.nc4</dd><dt><span>Filename :</span></dt><dd>MERRA2_400.tavg1_2d_slv_Nx.20190313.nc4</dd><dt><span>Conventions :</span></dt><dd>CF-1</dd><dt><span>Institution :</span></dt><dd>NASA Global Modeling and Assimilation Office</dd><dt><span>References :</span></dt><dd>http://gmao.gsfc.nasa.gov</dd><dt><span>Format :</span></dt><dd>NetCDF-4/HDF-5</dd><dt><span>SpatialCoverage :</span></dt><dd>global</dd><dt><span>VersionID :</span></dt><dd>5.12.4</dd><dt><span>TemporalRange :</span></dt><dd>1980-01-01 -&gt; 2016-12-31</dd><dt><span>identifier_product_doi_authority :</span></dt><dd>http://dx.doi.org/</dd><dt><span>ShortName :</span></dt><dd>M2T1NXSLV</dd><dt><span>GranuleID :</span></dt><dd>MERRA2_400.tavg1_2d_slv_Nx.20190313.nc4</dd><dt><span>ProductionDateTime :</span></dt><dd>Original file generated: Sat Mar 23 22:40:03 2019 GMT</dd><dt><span>LongName :</span></dt><dd>MERRA2 tavg1_2d_slv_Nx: 2d,1-Hourly,Time-Averaged,Single-Level,Assimilation,Single-Level Diagnostics</dd><dt><span>Title :</span></dt><dd>MERRA2 tavg1_2d_slv_Nx: 2d,1-Hourly,Time-Averaged,Single-Level,Assimilation,Single-Level Diagnostics</dd><dt><span>SouthernmostLatitude :</span></dt><dd>-90.0</dd><dt><span>NorthernmostLatitude :</span></dt><dd>90.0</dd><dt><span>WesternmostLongitude :</span></dt><dd>-180.0</dd><dt><span>EasternmostLongitude :</span></dt><dd>179.375</dd><dt><span>LatitudeResolution :</span></dt><dd>0.5</dd><dt><span>LongitudeResolution :</span></dt><dd>0.625</dd><dt><span>DataResolution :</span></dt><dd>0.5 x 0.625</dd><dt><span>Source :</span></dt><dd>CVS tag: GEOSadas-5_12_4_p15_M2-OPS</dd><dt><span>Contact :</span></dt><dd>http://gmao.gsfc.nasa.gov</dd><dt><span>identifier_product_doi :</span></dt><dd>10.5067/VJAFPLI1CSIV</dd><dt><span>RangeBeginningDate :</span></dt><dd>2019-03-13</dd><dt><span>RangeBeginningTime :</span></dt><dd>00:00:00.000000</dd><dt><span>RangeEndingDate :</span></dt><dd>2019-03-13</dd><dt><span>RangeEndingTime :</span></dt><dd>23:59:59.000000</dd></dl></div></li></ul></div></div>"
      ],
      "text/plain": [
       "<xarray.Dataset>\n",
       "Dimensions:   (lon: 576, lat: 361, time: 24)\n",
       "Coordinates:\n",
       "  * lon       (lon) float64 -180.0 -179.4 -178.8 -178.1 ... 178.1 178.8 179.4\n",
       "  * lat       (lat) float64 -90.0 -89.5 -89.0 -88.5 ... 88.5 89.0 89.5 90.0\n",
       "  * time      (time) datetime64[ns] 2019-03-13T00:30:00 ... 2019-03-13T23:30:00\n",
       "Data variables: (12/47)\n",
       "    CLDPRS    (time, lat, lon) float32 ...\n",
       "    CLDTMP    (time, lat, lon) float32 ...\n",
       "    DISPH     (time, lat, lon) float32 ...\n",
       "    H1000     (time, lat, lon) float32 ...\n",
       "    H250      (time, lat, lon) float32 ...\n",
       "    H500      (time, lat, lon) float32 ...\n",
       "    ...        ...\n",
       "    V250      (time, lat, lon) float32 ...\n",
       "    V2M       (time, lat, lon) float32 ...\n",
       "    V500      (time, lat, lon) float32 ...\n",
       "    V50M      (time, lat, lon) float32 ...\n",
       "    V850      (time, lat, lon) float32 ...\n",
       "    ZLCL      (time, lat, lon) float32 ...\n",
       "Attributes: (12/30)\n",
       "    History:                           Original file generated: Sat Mar 23 22...\n",
       "    Comment:                           GMAO filename: d5124_m2_jan10.tavg1_2d...\n",
       "    Filename:                          MERRA2_400.tavg1_2d_slv_Nx.20190313.nc4\n",
       "    Conventions:                       CF-1\n",
       "    Institution:                       NASA Global Modeling and Assimilation ...\n",
       "    References:                        http://gmao.gsfc.nasa.gov\n",
       "    ...                                ...\n",
       "    Contact:                           http://gmao.gsfc.nasa.gov\n",
       "    identifier_product_doi:            10.5067/VJAFPLI1CSIV\n",
       "    RangeBeginningDate:                2019-03-13\n",
       "    RangeBeginningTime:                00:00:00.000000\n",
       "    RangeEndingDate:                   2019-03-13\n",
       "    RangeEndingTime:                   23:59:59.000000"
      ]
     },
     "execution_count": 9,
     "metadata": {},
     "output_type": "execute_result"
    }
   ],
   "source": [
    "ds "
   ]
  },
  {
   "cell_type": "code",
   "execution_count": null,
   "id": "cd4214af-4891-4575-8d8b-7f5556496773",
   "metadata": {
    "tags": []
   },
   "outputs": [],
   "source": [
    "plt.rcParams['figure.figsize'] = 10,10\n",
    "\n",
    "# Set up figure\n",
    "fig = plt.figure()\n",
    "\n",
    "ax = fig.add_subplot(111, projection=ccrs.LambertConformal())\n",
    "ax.set_extent([-121, -72, 23, 51], crs=ccrs.PlateCarree()) # CONUS extent\n",
    "ax.coastlines(resolution='50m')\n",
    "ax.add_feature(cfeature.BORDERS)\n",
    "\n",
    "# Set up filled and line contours\n",
    "filled_c = ax.contourf(ds.lon, ds.lat, slp, levels=10, \n",
    "                       transform=ccrs.PlateCarree())\n",
    "line_c = ax.contour(ds.lon, ds.lat, slp, levels=10,\n",
    "                        colors=['black'],\n",
    "                        transform=ccrs.PlateCarree())\n",
    "\n",
    "# Set up labelling for contours\n",
    "ax.clabel(line_c,  \n",
    "    colors=['black'],\n",
    "    manual=False,  \n",
    "    inline=True,  \n",
    "    fmt=' {:.0f} '.format,  \n",
    "    )\n",
    "\n",
    "# Set up colorbar and figure title\n",
    "fig.colorbar(filled_c, orientation='horizontal')\n",
    "fig.suptitle('MERRA-2 CONUS Sea-Level Pressure (hPa) on 13 March 2019 15:30Z', fontsize=16)\n",
    "\n",
    "plt.show()"
   ]
  }
 ],
 "metadata": {
  "kernelspec": {
   "display_name": "kerchunkdata",
   "language": "python",
   "name": "kerchunkdata"
  },
  "language_info": {
   "codemirror_mode": {
    "name": "ipython",
    "version": 3
   },
   "file_extension": ".py",
   "mimetype": "text/x-python",
   "name": "python",
   "nbconvert_exporter": "python",
   "pygments_lexer": "ipython3",
   "version": "3.10.10"
  }
 },
 "nbformat": 4,
 "nbformat_minor": 5
}
